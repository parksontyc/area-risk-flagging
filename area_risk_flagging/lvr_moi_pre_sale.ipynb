{
 "cells": [
  {
   "cell_type": "code",
   "execution_count": null,
   "id": "f675c61e",
   "metadata": {},
   "outputs": [],
   "source": [
    "import os\n",
    "import re\n",
    "import time\n",
    "import datetime\n",
    "from tqdm import tqdm \n",
    "import pandas as pd"
   ]
  },
  {
   "cell_type": "code",
   "execution_count": null,
   "id": "42083ca6",
   "metadata": {},
   "outputs": [],
   "source": [
    "import sys\n",
    "from pathlib import Path\n",
    "project_root = Path.cwd().parent  # 找出根目錄：Path.cwd()找出現在所在目錄(/run).parent(上一層是notebook).parent(再上層一層business_district_discovery)\n",
    "print(project_root)\n",
    "sys.path.append(str(project_root))"
   ]
  },
  {
   "cell_type": "code",
   "execution_count": null,
   "id": "16835018",
   "metadata": {},
   "outputs": [],
   "source": [
    "from utils.configs import PRE_SALE_BASE_URL, PRE_SALE_URLS_FRAGMENTS, PRE_SALE_COLUMN_NAME\n",
    "from utils.helper_func import build_complete_urls , combined_df, parse_admin_region, to_year_quarter, sample_csv_to_target_size"
   ]
  },
  {
   "cell_type": "code",
   "execution_count": null,
   "id": "96a7deb8",
   "metadata": {},
   "outputs": [],
   "source": [
    "urls = build_complete_urls(PRE_SALE_BASE_URL, PRE_SALE_URLS_FRAGMENTS)\n",
    "print(urls)"
   ]
  },
  {
   "cell_type": "code",
   "execution_count": null,
   "id": "57fc9022",
   "metadata": {},
   "outputs": [],
   "source": [
    "df = combined_df(urls, \"20250801\")"
   ]
  },
  {
   "cell_type": "code",
   "execution_count": null,
   "id": "a8bc2465",
   "metadata": {},
   "outputs": [],
   "source": [
    "# 輸出的資料夾\n",
    "output_dir = r\"C:\\pylabs\\area-risk-flagging\\data\\lvr_moi\\transection_data\\raw_data\"\n",
    "os.makedirs(output_dir, exist_ok=True)\n",
    "\n",
    "csv_fn = \"transection_raw_data_20250801.csv\"\n",
    "out_path = os.path.join(output_dir,  csv_fn)\n",
    "df.to_csv(out_path, index=False, encoding='utf-8-sig')"
   ]
  },
  {
   "cell_type": "code",
   "execution_count": null,
   "id": "a4314aa3",
   "metadata": {},
   "outputs": [],
   "source": [
    "input_dir = r\"C:\\pylabs\\area-risk-flagging\\data\\lvr_moi\\transection_data\\raw_data\"\n",
    "csv_fn = \"transection_raw_data_20250801.csv\"\n",
    "input_path = os.path.join(input_dir,  csv_fn)\n",
    "df = pd.read_csv(input_path)"
   ]
  },
  {
   "cell_type": "code",
   "execution_count": null,
   "id": "2675a6a5",
   "metadata": {},
   "outputs": [],
   "source": [
    "display(df.columns)\n",
    "df.shape"
   ]
  },
  {
   "cell_type": "code",
   "execution_count": null,
   "id": "5a236e12",
   "metadata": {},
   "outputs": [],
   "source": [
    "transection_df = df.rename(columns= PRE_SALE_COLUMN_NAME, inplace=False)"
   ]
  },
  {
   "cell_type": "code",
   "execution_count": null,
   "id": "c591954b",
   "metadata": {},
   "outputs": [],
   "source": [
    "transection_df.columns"
   ]
  },
  {
   "cell_type": "code",
   "execution_count": null,
   "id": "234c3e00",
   "metadata": {},
   "outputs": [],
   "source": [
    "proc_df = transection_df.copy()"
   ]
  },
  {
   "cell_type": "code",
   "execution_count": null,
   "id": "d43fe2cf",
   "metadata": {},
   "outputs": [],
   "source": [
    "# 在 proc_df 裡面新增一個「行政區」欄位\n",
    "district_series = proc_df[\"坐落街道\"].apply(parse_admin_region)\n",
    "idx = proc_df.columns.get_loc(\"縣市\") + 1\n",
    "proc_df.insert(loc=idx,\n",
    "                column=\"行政區\",\n",
    "                value=district_series)\n",
    "\n",
    "# 新增「解約日期」欄位\n",
    "cancel_series = proc_df[\"解約情形\"].dropna().astype(str).str.extract(r'^(\\d{7})')\n",
    "idx = proc_df.columns.get_loc(\"解約情形\") + 1\n",
    "proc_df.insert(loc=idx,\n",
    "                column=\"解約日期\",\n",
    "                value=cancel_series)\n",
    "\n",
    "# 單位轉換\n",
    "proc_df['交易總價'] = pd.to_numeric(proc_df['交易總價'].str.replace(',', ''), errors='coerce')\n",
    "proc_df['交易總價'] = (proc_df['交易總價'] / 10000).round(0).astype(int)\n",
    "\n",
    "proc_df['建物單價'] = pd.to_numeric(proc_df['建物單價'].str.replace(',', ''), errors='coerce')\n",
    "proc_df['建物單價'] = (proc_df['建物單價'] / 10000).round(1).fillna(0).astype(float)"
   ]
  },
  {
   "cell_type": "code",
   "execution_count": null,
   "id": "989adb20",
   "metadata": {},
   "outputs": [],
   "source": [
    "proc_df.columns"
   ]
  },
  {
   "cell_type": "code",
   "execution_count": null,
   "id": "77bb57f5",
   "metadata": {},
   "outputs": [],
   "source": [
    "proc_df = proc_df[['備查編號','交易日期','縣市', '行政區', '社區名稱', '棟號','樓層','主要用途','總面積','建物單價','交易總價','車位筆數', '車位總價','建物型態',  '解約情形', '解約日期','坐落街道',\n",
    "           '建物格局', '使用分區', '備註','土地筆數', '建物筆數', '緯度', '經度', '主要建材', '建坪單價計算',  '主建佔總面積(不含車)比',  '主建佔總面積比', \n",
    "           '流水號', '交易型態', '縣市代號','行政區代號','匯入時間',\n",
    "         ]]\n",
    "# proc_df = proc_df[proc_df['備查編號'].notna()]\n",
    "proc_df.reset_index(drop=True, inplace=True)\n",
    "display(proc_df)"
   ]
  },
  {
   "cell_type": "code",
   "execution_count": null,
   "id": "313243e4",
   "metadata": {},
   "outputs": [],
   "source": [
    "proc_df[proc_df['社區名稱'] == '國泰悠陽']"
   ]
  },
  {
   "cell_type": "code",
   "execution_count": null,
   "id": "e0416c54",
   "metadata": {},
   "outputs": [],
   "source": [
    "# 輸出的資料夾\n",
    "output_dir = r\"C:\\pylabs\\area-risk-flagging\\data\\lvr_moi\\transection_data\\processed\"\n",
    "os.makedirs(output_dir, exist_ok=True)\n",
    "\n",
    "csv_fn = \"transection_data.csv\"\n",
    "out_path = os.path.join(output_dir,  csv_fn)\n",
    "proc_df.to_csv(out_path, index=False, encoding='utf-8-sig')"
   ]
  },
  {
   "cell_type": "code",
   "execution_count": null,
   "id": "0b6f7f3e",
   "metadata": {},
   "outputs": [],
   "source": [
    "# 製作小型測試檔\n",
    "\n",
    "raw_input_dir = r\"C:\\pylabs\\area-risk-flagging\\data\\lvr_moi\\transection_data\\processed\"\n",
    "raw_fn = \"transection_data.csv\"\n",
    "raw_data_path = os.path.join(raw_input_dir,  raw_fn)\n",
    "\n",
    "test_output_dir = r\"C:\\pylabs\\area-risk-flagging\\data\\lvr_moi\\transection_data\\processed\"\n",
    "test_fn = \"transection_data_test.csv\"\n",
    "test_data_path = os.path.join(test_output_dir,  test_fn)"
   ]
  },
  {
   "cell_type": "code",
   "execution_count": null,
   "id": "27ca4ae3",
   "metadata": {},
   "outputs": [],
   "source": [
    "sampled = sample_csv_to_target_size(\n",
    "    input_path=raw_data_path,\n",
    "    output_path=test_data_path,\n",
    "    target_mb=40\n",
    ")"
   ]
  }
 ],
 "metadata": {
  "kernelspec": {
   "display_name": "area-risk-flagging",
   "language": "python",
   "name": "python3"
  },
  "language_info": {
   "codemirror_mode": {
    "name": "ipython",
    "version": 3
   },
   "file_extension": ".py",
   "mimetype": "text/x-python",
   "name": "python",
   "nbconvert_exporter": "python",
   "pygments_lexer": "ipython3",
   "version": "3.11.13"
  }
 },
 "nbformat": 4,
 "nbformat_minor": 5
}
