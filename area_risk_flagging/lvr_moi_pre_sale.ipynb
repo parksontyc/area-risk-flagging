{
 "cells": [
  {
   "cell_type": "code",
   "execution_count": null,
   "id": "f675c61e",
   "metadata": {},
   "outputs": [],
   "source": [
    "import os\n",
    "import re\n",
    "import time\n",
    "import datetime\n",
    "from tqdm import tqdm \n",
    "import pandas as pd\n",
    "import requests"
   ]
  },
  {
   "cell_type": "code",
   "execution_count": null,
   "id": "42083ca6",
   "metadata": {},
   "outputs": [],
   "source": [
    "import sys\n",
    "from pathlib import Path\n",
    "project_root = Path.cwd().parent  # 找出根目錄：Path.cwd()找出現在所在目錄(/run).parent(上一層是notebook).parent(再上層一層business_district_discovery)\n",
    "print(project_root)\n",
    "sys.path.append(str(project_root))"
   ]
  },
  {
   "cell_type": "code",
   "execution_count": null,
   "id": "16835018",
   "metadata": {},
   "outputs": [],
   "source": [
    "from utils.configs import PRE_SALE_BASE_URL, PRE_SALE_URLS_FRAGMENTS, PRE_SALE_COLUMN_NAME\n",
    "from utils.helper_func import build_complete_urls , combined_df, parse_admin_region, to_year_quarter"
   ]
  },
  {
   "cell_type": "code",
   "execution_count": null,
   "id": "96a7deb8",
   "metadata": {},
   "outputs": [],
   "source": [
    "urls = build_complete_urls(PRE_SALE_BASE_URL, PRE_SALE_URLS_FRAGMENTS)\n",
    "print(urls)"
   ]
  },
  {
   "cell_type": "code",
   "execution_count": null,
   "id": "57fc9022",
   "metadata": {},
   "outputs": [],
   "source": [
    "df = combined_df(urls, \"20250711\")"
   ]
  },
  {
   "cell_type": "code",
   "execution_count": null,
   "id": "a8bc2465",
   "metadata": {},
   "outputs": [],
   "source": [
    "# 輸出的資料夾\n",
    "output_dir = r\"C:\\pylabs\\area-risk-flagging\\data\\lvr_moi\\pre_sale_data\\raw_data\"\n",
    "os.makedirs(output_dir, exist_ok=True)\n",
    "\n",
    "csv_fn = \"預售屋買賣主檔_11006_11406.csv\"\n",
    "out_path = os.path.join(output_dir,  csv_fn)\n",
    "df.to_csv(out_path, index=False, encoding='utf-8-sig')"
   ]
  },
  {
   "cell_type": "code",
   "execution_count": null,
   "id": "a4314aa3",
   "metadata": {},
   "outputs": [],
   "source": [
    "input_dir = r\"C:\\pylabs\\area-risk-flagging\\data\\lvr_moi\\pre_sale_data\\raw_data\"\n",
    "csv_fn = \"預售屋買賣主檔_11006_11406.csv\"\n",
    "input_path = os.path.join(input_dir,  csv_fn)\n",
    "presale_df = pd.read_csv(input_path)"
   ]
  },
  {
   "cell_type": "code",
   "execution_count": null,
   "id": "2675a6a5",
   "metadata": {},
   "outputs": [],
   "source": [
    "presale_df"
   ]
  },
  {
   "cell_type": "code",
   "execution_count": null,
   "id": "77bb57f5",
   "metadata": {},
   "outputs": [],
   "source": [
    "presale_df = presale_df.rename(columns= PRE_SALE_COLUMN_NAME, inplace=False)\n",
    "proc_df = presale_df.copy()\n",
    "proc_df = proc_df[[\"備查編號\", \"縣市\", \"坐落街道\", \"建物型態\", \"社區名稱\", \"棟號\", \"交易日期\", \"總面積\", \"交易總價\",  \n",
    "\"建物單價\", \"樓層\", \"解約情形\",   \"主要用途\",  \"車位總價\", \"車位筆數\",  \"備註\", \"經度\", \"緯度\"]]"
   ]
  },
  {
   "cell_type": "code",
   "execution_count": null,
   "id": "6d932700",
   "metadata": {},
   "outputs": [],
   "source": [
    "# 在 proc_df 裡面新增一個「行政區」欄位\n",
    "district_series = proc_df[\"坐落街道\"].apply(parse_admin_region)\n",
    "idx = proc_df.columns.get_loc(\"縣市\") + 1\n",
    "proc_df.insert(loc=idx,\n",
    "                column=\"行政區\",\n",
    "                value=district_series)\n",
    "\n",
    "# 新增「交易年月」欄位\n",
    "proc_df['交易年月'] = proc_df['交易日期'].str.replace(r'(\\d+)/(\\d+)/\\d+', r'\\1\\2', regex=True)\n",
    "\n",
    "proc_df['交易總價'] = pd.to_numeric(proc_df['交易總價'].str.replace(',', ''), errors='coerce')\n",
    "proc_df['交易總價'] = (proc_df['交易總價'] / 10000).round(0).astype(int)\n",
    "\n",
    "proc_df['建物單價'] = pd.to_numeric(proc_df['建物單價'].str.replace(',', ''), errors='coerce')\n",
    "proc_df['建物單價'] = (proc_df['建物單價'] / 10000).round(1).fillna(0).astype(float)\n",
    "\n",
    "# 1. 先準備好要插入的 Series\n",
    "sq_series = proc_df[\"交易年月\"].apply(to_year_quarter)\n",
    "\n",
    "# 2. 找到「銷售起始時間」的欄位位置，並 +1 得到插入索引\n",
    "idx = proc_df.columns.get_loc(\"交易日期\") + 1\n",
    "\n",
    "# 3. 用 insert() 把新欄位放進去\n",
    "proc_df.insert(loc=idx,\n",
    "                column=\"交易年季\",\n",
    "                value=sq_series)"
   ]
  },
  {
   "cell_type": "code",
   "execution_count": null,
   "id": "0e1a9675",
   "metadata": {},
   "outputs": [],
   "source": [
    "proc_df = proc_df[proc_df['備查編號'].notna()]\n",
    "# 重置索引，並捨棄原本的索引欄位\n",
    "proc_df = proc_df.reset_index(drop=True)\n",
    "proc_df"
   ]
  },
  {
   "cell_type": "code",
   "execution_count": null,
   "id": "e0416c54",
   "metadata": {},
   "outputs": [],
   "source": [
    "# 輸出的資料夾\n",
    "output_dir = r\"C:\\pylabs\\area-risk-flagging\\data\\lvr_moi\\pre_sale_data\\processed\"\n",
    "os.makedirs(output_dir, exist_ok=True)\n",
    "\n",
    "csv_fn = \"預售屋買賣主檔_11006_11406.csv\"\n",
    "out_path = os.path.join(output_dir,  csv_fn)\n",
    "proc_df.to_csv(out_path, index=False, encoding='utf-8-sig')"
   ]
  }
 ],
 "metadata": {
  "kernelspec": {
   "display_name": "area-risk-flagging",
   "language": "python",
   "name": "python3"
  },
  "language_info": {
   "codemirror_mode": {
    "name": "ipython",
    "version": 3
   },
   "file_extension": ".py",
   "mimetype": "text/x-python",
   "name": "python",
   "nbconvert_exporter": "python",
   "pygments_lexer": "ipython3",
   "version": "3.11.13"
  }
 },
 "nbformat": 4,
 "nbformat_minor": 5
}
