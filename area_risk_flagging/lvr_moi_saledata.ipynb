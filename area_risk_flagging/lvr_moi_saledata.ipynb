{
 "cells": [
  {
   "cell_type": "code",
   "execution_count": null,
   "id": "cc592fa1",
   "metadata": {},
   "outputs": [],
   "source": [
    "import os\n",
    "import re\n",
    "import time\n",
    "import datetime\n",
    "from tqdm import tqdm \n",
    "import pandas as pd\n",
    "import requests\n",
    "import ast\n",
    "from IPython.display import display"
   ]
  },
  {
   "cell_type": "code",
   "execution_count": null,
   "id": "88f01bc6",
   "metadata": {},
   "outputs": [],
   "source": [
    "import sys\n",
    "from pathlib import Path\n",
    "project_root = Path.cwd().parent  # 找出根目錄：Path.cwd()找出現在所在目錄(/run).parent(上一層是notebook).parent(再上層一層business_district_discovery)\n",
    "print(project_root)\n",
    "sys.path.append(str(project_root))"
   ]
  },
  {
   "cell_type": "code",
   "execution_count": null,
   "id": "cc5c5bd7",
   "metadata": {},
   "outputs": [],
   "source": [
    "from utils.configs import BASE_URL, URLS_FRAGMENTS, COLUMN_NAME\n",
    "from utils.helper_func import build_complete_urls, extract_company_name, combined_df, parse_admin_region, parse_sale_period, find_first_sale_time, sales_start_time"
   ]
  },
  {
   "cell_type": "code",
   "execution_count": null,
   "id": "60eea7c4",
   "metadata": {},
   "outputs": [],
   "source": [
    "urls = build_complete_urls(BASE_URL, URLS_FRAGMENTS)\n",
    "print(urls)"
   ]
  },
  {
   "cell_type": "code",
   "execution_count": null,
   "id": "aef30526",
   "metadata": {},
   "outputs": [],
   "source": [
    "community_raw_df = combined_df(urls, \"20250801\")"
   ]
  },
  {
   "cell_type": "code",
   "execution_count": null,
   "id": "d2f61e3b",
   "metadata": {},
   "outputs": [],
   "source": [
    "output_dir = r\"C:\\pylabs\\area-risk-flagging\\data\\lvr_moi\\community_data\\raw\"\n",
    "os.makedirs(output_dir, exist_ok=True)"
   ]
  },
  {
   "cell_type": "code",
   "execution_count": null,
   "id": "a4f5afbf",
   "metadata": {},
   "outputs": [],
   "source": [
    "csv_fn = \"community_raw_data_20280801.csv\"\n",
    "out_path = os.path.join(output_dir,  csv_fn)\n",
    "community_raw_df.to_csv(out_path, index=False, encoding='utf-8-sig')"
   ]
  },
  {
   "cell_type": "code",
   "execution_count": null,
   "id": "f643adc9",
   "metadata": {},
   "outputs": [],
   "source": [
    "input_dir = r\"C:\\pylabs\\area-risk-flagging\\data\\lvr_moi\\community_data\\raw\"\n",
    "csv_fn = \"community_raw_data_20280801.csv\"\n",
    "input_path = os.path.join(input_dir,  csv_fn)\n",
    "\n",
    "df = pd.read_csv(input_path, encoding='utf-8-sig')"
   ]
  },
  {
   "cell_type": "code",
   "execution_count": null,
   "id": "a5918bfd",
   "metadata": {},
   "outputs": [],
   "source": [
    "df.columns"
   ]
  },
  {
   "cell_type": "code",
   "execution_count": null,
   "id": "6ee5f751",
   "metadata": {},
   "outputs": [],
   "source": [
    "df = df.rename(columns=COLUMN_NAME, inplace=False)\n",
    "display(df.columns)\n",
    "display(df.shape)"
   ]
  },
  {
   "cell_type": "code",
   "execution_count": null,
   "id": "301a5ae8",
   "metadata": {},
   "outputs": [],
   "source": [
    "pd.set_option('display.max_columns', None)  # 所有欄位都顯示\n",
    "pd.set_option('display.max_rows', 500)      # 最多顯示 100 列\n",
    "# pd.reset_option('display.max_colwidth', None) # 不截斷欄位內容\n"
   ]
  },
  {
   "cell_type": "code",
   "execution_count": null,
   "id": "2df32dc3",
   "metadata": {},
   "outputs": [],
   "source": [
    "proc_df = df.copy()\n",
    "# 取出建商名稱，並建立company_name欄位\n",
    "proc_df['建設公司'] = proc_df.apply(extract_company_name, axis=1)\n",
    "# 在 proc_df 裡面新增一個「行政區」欄位\n",
    "proc_df[\"行政區\"] = proc_df[\"坐落街道\"].apply(parse_admin_region)\n",
    "# proc_df[\"自售期間\"], proc_df[\"代銷期間\"] = zip(*proc_df[\"銷售期間\"].apply(parse_sale_period))\n",
    "\n",
    "# 依規則從「自售期間」及「代銷期間」欄位提取出7位數字，\n",
    "# 分別存入新欄位「自售起始時間」與「代銷起始時間」\n",
    "proc_df[\"自售起始時間\"] = proc_df[\"自銷售期間\"].apply(find_first_sale_time)\n",
    "proc_df[\"代銷起始時間\"] = proc_df[\"代銷售期間\"].apply(find_first_sale_time)\n"
   ]
  },
  {
   "cell_type": "code",
   "execution_count": null,
   "id": "030e695f",
   "metadata": {},
   "outputs": [],
   "source": [
    "# proc_df[['自售起始時間', '代銷起始時間', '自銷售期間', '代銷售期間']].sample(200)\n",
    "# proc_df[(proc_df['自售起始時間'].isna() & proc_df['代銷起始時間'].isna())][['自銷售期間', '代銷售期間']]"
   ]
  },
  {
   "cell_type": "code",
   "execution_count": null,
   "id": "7a0e417f",
   "metadata": {},
   "outputs": [],
   "source": [
    "# 建立「銷售起始時間」欄位\n",
    "proc_df[\"銷售起始時間\"] = proc_df.apply(sales_start_time, axis=1)"
   ]
  },
  {
   "cell_type": "code",
   "execution_count": null,
   "id": "c601cbbd",
   "metadata": {},
   "outputs": [],
   "source": [
    "# proc_df[proc_df['銷售起始時間'].isna()]"
   ]
  },
  {
   "cell_type": "code",
   "execution_count": null,
   "id": "ed7453c2",
   "metadata": {},
   "outputs": [],
   "source": [
    "proc_df.columns"
   ]
  },
  {
   "cell_type": "code",
   "execution_count": null,
   "id": "13907643",
   "metadata": {},
   "outputs": [],
   "source": [
    "community_df = proc_df[[ '編號', '縣市', '行政區', '社區名稱', '戶數',  '主要用途', '銷售起始時間', '完成建物第一次登記日期','建照執照',  \n",
    "                        '自售起始時間', '代銷起始時間', '備查完成日期', '建照核發日', '自銷售期間', '代銷售期間', '經度','緯度', '主要建材','坐落街道','使用分區', '坐落基地', '匯入時間']]\n",
    "community_df\n"
   ]
  },
  {
   "cell_type": "code",
   "execution_count": null,
   "id": "8da9d910",
   "metadata": {},
   "outputs": [],
   "source": [
    "# 輸出的資料夾\n",
    "output_dir = r\"C:\\pylabs\\area-risk-flagging\\data\\lvr_moi\\community_data\\processed\"\n",
    "os.makedirs(output_dir, exist_ok=True)"
   ]
  },
  {
   "cell_type": "code",
   "execution_count": null,
   "id": "bdb77dc7",
   "metadata": {},
   "outputs": [],
   "source": [
    "csv_fn = \"community_data.csv\"\n",
    "out_path = os.path.join(output_dir,  csv_fn)\n",
    "community_df.to_csv(out_path, index=False, encoding='utf-8-sig')\n",
    "\n",
    "# pkl_fn   = \"預售屋備查.pkl\"\n",
    "# pkl_path = os.path.join(output_dir, pkl_fn)\n",
    "# proc_df.to_pickle(pkl_path)"
   ]
  },
  {
   "cell_type": "code",
   "execution_count": null,
   "id": "4dca3c38",
   "metadata": {},
   "outputs": [],
   "source": []
  }
 ],
 "metadata": {
  "kernelspec": {
   "display_name": "area-risk-flagging",
   "language": "python",
   "name": "python3"
  },
  "language_info": {
   "codemirror_mode": {
    "name": "ipython",
    "version": 3
   },
   "file_extension": ".py",
   "mimetype": "text/x-python",
   "name": "python",
   "nbconvert_exporter": "python",
   "pygments_lexer": "ipython3",
   "version": "3.11.13"
  }
 },
 "nbformat": 4,
 "nbformat_minor": 5
}
