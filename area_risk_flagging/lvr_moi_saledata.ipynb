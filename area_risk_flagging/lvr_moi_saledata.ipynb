{
 "cells": [
  {
   "cell_type": "code",
   "execution_count": null,
   "id": "cc592fa1",
   "metadata": {},
   "outputs": [],
   "source": [
    "import os\n",
    "import re\n",
    "import time\n",
    "import datetime\n",
    "from tqdm import tqdm \n",
    "import pandas as pd\n",
    "import requests"
   ]
  },
  {
   "cell_type": "code",
   "execution_count": null,
   "id": "88f01bc6",
   "metadata": {},
   "outputs": [],
   "source": [
    "import sys\n",
    "from pathlib import Path\n",
    "project_root = Path.cwd().parent  # 找出根目錄：Path.cwd()找出現在所在目錄(/run).parent(上一層是notebook).parent(再上層一層business_district_discovery)\n",
    "print(project_root)\n",
    "sys.path.append(str(project_root))"
   ]
  },
  {
   "cell_type": "code",
   "execution_count": null,
   "id": "cc5c5bd7",
   "metadata": {},
   "outputs": [],
   "source": [
    "from utils.configs import BASE_URL, URLS_FRAGMENTS, COLUMN_NAME\n",
    "from utils.helper_func import build_complete_urls, fetch_data, combined_df, parse_admin_region, parse_sale_period, find_first_sale_time, sales_start_time"
   ]
  },
  {
   "cell_type": "code",
   "execution_count": null,
   "id": "60eea7c4",
   "metadata": {},
   "outputs": [],
   "source": [
    "urls = build_complete_urls(BASE_URL, URLS_FRAGMENTS)\n",
    "print(urls)"
   ]
  },
  {
   "cell_type": "code",
   "execution_count": null,
   "id": "aef30526",
   "metadata": {},
   "outputs": [],
   "source": [
    "df = combined_df(urls, \"20250709\")"
   ]
  },
  {
   "cell_type": "code",
   "execution_count": null,
   "id": "6ee5f751",
   "metadata": {},
   "outputs": [],
   "source": [
    "df = df.rename(columns=COLUMN_NAME, inplace=False)\n",
    "df"
   ]
  },
  {
   "cell_type": "code",
   "execution_count": null,
   "id": "2df32dc3",
   "metadata": {},
   "outputs": [],
   "source": [
    "proc_df = df.copy()\n",
    "# 在 proc_df 裡面新增一個「行政區」欄位\n",
    "proc_df[\"行政區\"] = proc_df[\"坐落街道\"].apply(parse_admin_region)\n",
    "proc_df[\"自售期間\"], proc_df[\"代銷期間\"] = zip(*proc_df[\"銷售期間\"].apply(parse_sale_period))\n",
    "\n",
    "# 依規則從「自售期間」及「代銷期間」欄位提取出7位數字，\n",
    "# 分別存入新欄位「自售起始時間」與「代銷起始時間」\n",
    "proc_df[\"自售起始時間\"] = proc_df[\"自售期間\"].apply(find_first_sale_time)\n",
    "proc_df[\"代銷起始時間\"] = proc_df[\"代銷期間\"].apply(find_first_sale_time)\n",
    "\n",
    "# 建立「銷售起始時間」欄位\n",
    "proc_df[\"銷售起始時間\"] = proc_df.apply(sales_start_time, axis=1)"
   ]
  },
  {
   "cell_type": "code",
   "execution_count": null,
   "id": "13907643",
   "metadata": {},
   "outputs": [],
   "source": [
    "final_df = proc_df[[\"縣市\", \"行政區\", \"起造人\", \"社區名稱\", \"戶數\", \"銷售起始時間\", \"銷售期間\",  \n",
    "\"編號\", \"自售起始時間\", \"代銷起始時間\", \"備查完成日期\", \"建照核發日\", \"坐落街道\", \"主要用途\", \"使用分區\", \"建照執照\", \"經度\", \"緯度\"]]\n",
    "final_df"
   ]
  },
  {
   "cell_type": "code",
   "execution_count": null,
   "id": "8da9d910",
   "metadata": {},
   "outputs": [],
   "source": [
    "# 輸出的資料夾\n",
    "output_dir = r\"C:\\pylabs\\area-risk-flagging\\data\\lvr_moi\\sale_data\\processed\"\n",
    "os.makedirs(output_dir, exist_ok=True)"
   ]
  },
  {
   "cell_type": "code",
   "execution_count": null,
   "id": "bdb77dc7",
   "metadata": {},
   "outputs": [],
   "source": [
    "csv_fn = \"預售屋備查.csv\"\n",
    "out_path = os.path.join(output_dir,  csv_fn)\n",
    "final_df.to_csv(out_path, index=False, encoding='utf-8-sig')\n",
    "\n",
    "pkl_fn   = \"預售屋備查.pkl\"\n",
    "pkl_path = os.path.join(output_dir, pkl_fn)\n",
    "final_df.to_pickle(pkl_path)"
   ]
  }
 ],
 "metadata": {
  "kernelspec": {
   "display_name": "area-risk-flagging",
   "language": "python",
   "name": "python3"
  },
  "language_info": {
   "codemirror_mode": {
    "name": "ipython",
    "version": 3
   },
   "file_extension": ".py",
   "mimetype": "text/x-python",
   "name": "python",
   "nbconvert_exporter": "python",
   "pygments_lexer": "ipython3",
   "version": "3.11.13"
  }
 },
 "nbformat": 4,
 "nbformat_minor": 5
}
