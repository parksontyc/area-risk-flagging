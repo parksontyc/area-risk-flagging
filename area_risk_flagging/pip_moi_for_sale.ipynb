{
 "cells": [
  {
   "cell_type": "code",
   "execution_count": null,
   "id": "45b07ea1",
   "metadata": {},
   "outputs": [],
   "source": [
    "import os\n",
    "import time\n",
    "import urllib.parse\n",
    "import requests\n",
    "from bs4 import BeautifulSoup"
   ]
  },
  {
   "cell_type": "code",
   "execution_count": null,
   "id": "4af440a1",
   "metadata": {},
   "outputs": [],
   "source": [
    "session = requests.Session()\n",
    "url = 'https://pip.moi.gov.tw/Publicize/Info/E1040'\n",
    "\n",
    "# （1）先 GET 頁面取得 token\n",
    "resp = session.get(url)\n",
    "resp.encoding = 'utf-8'\n",
    "\n",
    "soup = BeautifulSoup(resp.text, 'html.parser')\n",
    "token = soup.find('input', {'name': '__RequestVerificationToken'})['value']\n"
   ]
  },
  {
   "cell_type": "code",
   "execution_count": null,
   "id": "6778035f",
   "metadata": {},
   "outputs": [],
   "source": [
    "# 2. 要跑的縣市代號與季度\n",
    "# cities = [\n",
    "#     {\"臺北市\": \"63000\"}, {\"新北市\": \"65000\"}, {\"桃園市\": \"68000\"}, {\"新竹市\": \"10018\"}, {\"新竹縣\": \"10004\"}, {\"臺中市\": \"66000\"}, {\"臺南市\": \"67000\"}, {\"高雄市\": \"64000\"},\n",
    "#     {\"南投縣\": \"10008\"}, {\"嘉義市\": \"10020\"}, {\"嘉義縣\": \"10010\"}, {\"宜蘭縣\": \"10002\"}, {\"屏東縣\": \"10013\"}, {\"彰化縣\": \"10007\"}, {\"澎湖縣\": \"10016\"}, {\"臺東縣\": \"10014\"},\n",
    "#     {\"花蓮縣\": \"10015\"}, {\"苗栗縣\": \"10005\"}, {\"連江縣\": \"09007\"}, {\"金門縣\": \"09020\"}, {\"雲林縣\": \"10009\"}, {\"基隆市\":\"10017\"}\n",
    "# ]\n",
    "\n",
    "cities = [\n",
    "    {\"臺北市\": \"63000\"},\n",
    "]\n",
    "payload_quarters = [f\"{y}Q{q}\" for y in range(109, 114) for q in (1,2,3,4)]\n",
    "file_name_quarters = [f\"{y}Y{q}S\" for y in range(109, 114) for q in (1,2,3,4)]\n",
    "# 3. 輸出資料夾\n",
    "output_dir = r\"C:\\pylabs\\area-risk-flagging\\data\\pip_moi\\district_new_house_for_sale\\raw_data\"\n",
    "os.makedirs(output_dir, exist_ok=True)"
   ]
  },
  {
   "cell_type": "code",
   "execution_count": null,
   "id": "69a47e87",
   "metadata": {},
   "outputs": [],
   "source": [
    "# 4. Base payload\n",
    "base_payload = {\n",
    "    'tpc01_pidx': '1', 'tpc02_pidx': '1', 'tpc03_pidx': '1',\n",
    "    'tpc04_pidx': '1', 'q1_ddate_sel': '', 'q1_city_sel': '',\n",
    "    'q2_ddate_sel': '', 'q2_city_sel': '', 'q2_town_sel': '',\n",
    "    'q3_ddate_sel': '', 'q3_qq_sel': '', 'q3_city_sel': '',\n",
    "    'q4_ddate_sel': '', 'q4_qq_sel': '', 'q4_city_sel': '',\n",
    "    'q4_town_sel': '', 'q5_ddate_sel': '', 'q5_city_sel': '',\n",
    "    'F01': 'DataGroup4',\n",
    "    'F04': '',\n",
    "    'F05': '',\n",
    "    'F06': '',\n",
    "    '__RequestVerificationToken': token,\n",
    "}\n",
    "\n",
    "headers = {\n",
    "    'Referer': url,\n",
    "    'Content-Type': 'application/x-www-form-urlencoded; charset=UTF-8',\n",
    "}\n"
   ]
  },
  {
   "cell_type": "code",
   "execution_count": null,
   "id": "7eac4475",
   "metadata": {},
   "outputs": [],
   "source": [
    "# 5. 迴圈下載：用 zip 同時取 payload 與檔名用的季度\n",
    "for city_dict in cities:\n",
    "    city_name, city_code = next(iter(city_dict.items()))\n",
    "    for payload_q, file_q in zip(payload_quarters, file_name_quarters):\n",
    "        payload = base_payload.copy()\n",
    "        payload['F02'] = payload_q       # 給 POST 的季度\n",
    "        payload['F03'] = city_code       # 給 POST 的縣市代號\n",
    "\n",
    "        r = session.post(url, data=payload, headers=headers)\n",
    "        r.raise_for_status()\n",
    "\n",
    "        # 這裡用 file_q 來取代原本的 payload_q\n",
    "        fname = f\"待售新成屋_{file_q}_{city_code}_{city_name}.csv\"\n",
    "        path = os.path.join(output_dir, fname)\n",
    "\n",
    "        with open(path, 'wb') as fp:\n",
    "            fp.write(r.content)\n",
    "\n",
    "        print(f\"下載完成：{path}\")\n",
    "        time.sleep(0.5)"
   ]
  },
  {
   "cell_type": "code",
   "execution_count": null,
   "id": "eb8979ec",
   "metadata": {},
   "outputs": [],
   "source": []
  }
 ],
 "metadata": {
  "kernelspec": {
   "display_name": "area-risk-flagging",
   "language": "python",
   "name": "python3"
  },
  "language_info": {
   "codemirror_mode": {
    "name": "ipython",
    "version": 3
   },
   "file_extension": ".py",
   "mimetype": "text/x-python",
   "name": "python",
   "nbconvert_exporter": "python",
   "pygments_lexer": "ipython3",
   "version": "3.11.13"
  }
 },
 "nbformat": 4,
 "nbformat_minor": 5
}
