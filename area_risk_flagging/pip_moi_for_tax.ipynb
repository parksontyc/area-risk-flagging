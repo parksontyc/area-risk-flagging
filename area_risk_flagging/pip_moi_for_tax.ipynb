{
 "cells": [
  {
   "cell_type": "code",
   "execution_count": null,
   "id": "f398a609",
   "metadata": {},
   "outputs": [],
   "source": [
    "import os\n",
    "import time\n",
    "import urllib.parse\n",
    "import requests\n",
    "from bs4 import BeautifulSoup"
   ]
  },
  {
   "cell_type": "code",
   "execution_count": null,
   "id": "fe6c3bf5",
   "metadata": {},
   "outputs": [],
   "source": [
    "session = requests.Session()\n",
    "url = 'https://pip.moi.gov.tw/Publicize/Info/E4020'\n",
    "\n",
    "# （1）先 GET 頁面取得 token\n",
    "resp = session.get(url)\n",
    "resp.encoding = 'utf-8'\n",
    "\n",
    "soup = BeautifulSoup(resp.text, 'html.parser')\n",
    "token = soup.find('input', {'name': '__RequestVerificationToken'})['value']"
   ]
  },
  {
   "cell_type": "code",
   "execution_count": null,
   "id": "f02d82ac",
   "metadata": {},
   "outputs": [],
   "source": [
    "# 2. 要跑的縣市代號與季度\n",
    "cities = [\n",
    "    {\"臺北市\": \"A\"}, {\"新北市\": \"F\"}, {\"桃園市\": \"H\"}, {\"新竹市\": \"O\"}, {\"新竹縣\": \"J\"}, {\"臺中市\": \"B\"}, {\"臺南市\": \"D\"}, {\"高雄市\": \"E\"},\n",
    "    {\"南投縣\": \"M\"}, {\"嘉義市\": \"I\"}, {\"嘉義縣\": \"Q\"}, {\"宜蘭縣\": \"G\"}, {\"屏東縣\": \"T\"}, {\"彰化縣\": \"N\"}, {\"澎湖縣\": \"X\"}, {\"臺東縣\": \"V\"},\n",
    "    {\"花蓮縣\": \"U\"}, {\"苗栗縣\": \"K\"}, {\"連江縣\": \"Z\"}, {\"金門縣\": \"W\"}, {\"雲林縣\": \"P\"}, {\"基隆市\":\"C\"}\n",
    "]\n",
    "\n",
    "# cities = [\n",
    "#     {\"臺北市\": \"A\"},\n",
    "# ]\n",
    "payload_quarters = [f\"{y}Q{q}\" for y in range(109, 114) for q in (1,2,3,4)]\n",
    "file_name_quarters = [f\"{y}Y{q}S\" for y in range(109, 114) for q in (1,2,3,4)]\n",
    "# 3. 輸出資料夾\n",
    "output_dir = r\"C:\\pylabs\\area-risk-flagging\\data\\pip_moi\\district_house_for_tax\\raw_data\"\n",
    "os.makedirs(output_dir, exist_ok=True)"
   ]
  },
  {
   "cell_type": "code",
   "execution_count": null,
   "id": "933f94a0",
   "metadata": {},
   "outputs": [],
   "source": [
    "# 4. Base payload\n",
    "base_payload = {\n",
    "    # 下列跟 DevTools 裡一模一樣的 key\n",
    "    \"F01Sel\":    urllib.parse.quote(\"住宅供給\", encoding=\"utf-8\"),\n",
    "    \"F02Sel\":    \"TAX02\",\n",
    "    \"F01\":       urllib.parse.quote(\"住宅供給\", encoding=\"utf-8\"),\n",
    "    \"F02\":       \"TAX02\",\n",
    "    \"ResponseCommand\": urllib.parse.quote(\"檢視查詢結果\", encoding=\"utf-8\"),\n",
    "    \"Command\":         \"exportCSV\",\n",
    "    # 如果 CommandArgument 不需要就留空字串\n",
    "    \"CommandArgument\": \"\",\n",
    "    \"__RequestVerificationToken\": token\n",
    "}\n",
    "\n",
    "headers = {\n",
    "    'Referer': url,\n",
    "    'Content-Type': 'application/x-www-form-urlencoded; charset=UTF-8',\n",
    "}"
   ]
  },
  {
   "cell_type": "code",
   "execution_count": null,
   "id": "e05c8463",
   "metadata": {},
   "outputs": [],
   "source": [
    "# 5. 迴圈下載：用 zip 同時取 payload 與檔名用的季度\n",
    "for city_dict in cities:\n",
    "    city_name, city_code = next(iter(city_dict.items()))\n",
    "    for payload_q, file_q in zip(payload_quarters, file_name_quarters):\n",
    "        payload = base_payload.copy()\n",
    "        payload[\"DDATESel\"] = payload_q       # 給 POST 的季度\n",
    "        payload[\"DDATE\"] = payload_q       # 給 POST 的季度\n",
    "        payload[\"CitySel\"] = city_code       # 給 POST 的縣市代號\n",
    "        payload[\"City\"] = city_code       # 給 POST 的縣市代號\n",
    "\n",
    "        r = session.post(url, data=payload, headers=headers)\n",
    "        r.raise_for_status()\n",
    "\n",
    "        # 這裡用 file_q 來取代原本的 payload_q\n",
    "        fname = f\"房屋稅籍住宅類_屋齡分_{file_q}_{city_code}_{city_name}.csv\"\n",
    "        path = os.path.join(output_dir, fname)\n",
    "\n",
    "        with open(path, 'wb') as fp:\n",
    "            fp.write(r.content)\n",
    "\n",
    "        print(f\"下載完成：{path}\")\n",
    "        time.sleep(0.5)"
   ]
  }
 ],
 "metadata": {
  "kernelspec": {
   "display_name": "area-risk-flagging",
   "language": "python",
   "name": "python3"
  },
  "language_info": {
   "codemirror_mode": {
    "name": "ipython",
    "version": 3
   },
   "file_extension": ".py",
   "mimetype": "text/x-python",
   "name": "python",
   "nbconvert_exporter": "python",
   "pygments_lexer": "ipython3",
   "version": "3.11.13"
  }
 },
 "nbformat": 4,
 "nbformat_minor": 5
}
