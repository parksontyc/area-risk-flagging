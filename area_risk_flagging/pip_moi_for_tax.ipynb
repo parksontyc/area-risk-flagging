{
 "cells": [
  {
   "cell_type": "code",
   "execution_count": null,
   "id": "f398a609",
   "metadata": {},
   "outputs": [],
   "source": [
    "import os\n",
    "import time\n",
    "import urllib.parse\n",
    "import requests\n",
    "from bs4 import BeautifulSoup"
   ]
  },
  {
   "cell_type": "code",
   "execution_count": null,
   "id": "fe6c3bf5",
   "metadata": {},
   "outputs": [],
   "source": [
    "session = requests.Session()\n",
    "url = 'https://pip.moi.gov.tw/Publicize/Info/E4020'\n",
    "\n",
    "# （1）先 GET 頁面取得 token\n",
    "resp = session.get(url)\n",
    "resp.encoding = 'utf-8'\n",
    "\n",
    "soup = BeautifulSoup(resp.text, 'html.parser')\n",
    "token = soup.find('input', {'name': '__RequestVerificationToken'})['value']"
   ]
  },
  {
   "cell_type": "code",
   "execution_count": null,
   "id": "933f94a0",
   "metadata": {},
   "outputs": [],
   "source": [
    "# 4. Base payload\n",
    "payload = {\n",
    "    # 下列跟 DevTools 裡一模一樣的 key\n",
    "    \"CitySel\":   \"A\",\n",
    "    \"F01Sel\":    urllib.parse.quote(\"住宅供給\", encoding=\"utf-8\"),\n",
    "    \"F02Sel\":    \"TAX02\",\n",
    "    \"DDATESel\":  \"114Q1\",\n",
    "    \"City\":      \"A\",\n",
    "    \"F01\":       urllib.parse.quote(\"住宅供給\", encoding=\"utf-8\"),\n",
    "    \"F02\":       \"TAX02\",\n",
    "    \"DDATE\":     \"114Q1\",\n",
    "    \"ResponseCommand\": urllib.parse.quote(\"檢視查詢結果\", encoding=\"utf-8\"),\n",
    "    \"Command\":         \"exportCSV\",\n",
    "    # 如果 CommandArgument 不需要就留空字串\n",
    "    \"CommandArgument\": \"\",\n",
    "    \"__RequestVerificationToken\": token\n",
    "}\n",
    "\n",
    "headers = {\n",
    "    'Referer': url,\n",
    "    'Content-Type': 'application/x-www-form-urlencoded; charset=UTF-8',\n",
    "}"
   ]
  },
  {
   "cell_type": "code",
   "execution_count": null,
   "id": "472cad20",
   "metadata": {},
   "outputs": [],
   "source": [
    "download = session.post(url, data=payload)\n",
    "download.encoding = 'big5'   # 如果網站回傳的是 big5 編碼\n",
    "filename = f\"E1040_{payload['City']}.csv\"\n",
    "\n",
    "with open(filename, 'wb') as f:\n",
    "    f.write(download.content)\n",
    "\n",
    "print(f\"已下載並儲存為：{filename}\")"
   ]
  }
 ],
 "metadata": {
  "kernelspec": {
   "display_name": "area-risk-flagging",
   "language": "python",
   "name": "python3"
  },
  "language_info": {
   "codemirror_mode": {
    "name": "ipython",
    "version": 3
   },
   "file_extension": ".py",
   "mimetype": "text/x-python",
   "name": "python",
   "nbconvert_exporter": "python",
   "pygments_lexer": "ipython3",
   "version": "3.11.13"
  }
 },
 "nbformat": 4,
 "nbformat_minor": 5
}
