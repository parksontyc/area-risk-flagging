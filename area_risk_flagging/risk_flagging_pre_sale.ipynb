{
 "cells": [
  {
   "cell_type": "code",
   "execution_count": null,
   "id": "2e5bdca3",
   "metadata": {},
   "outputs": [],
   "source": [
    "import os\n",
    "import pandas as pd\n",
    "import numpy as np"
   ]
  },
  {
   "cell_type": "code",
   "execution_count": null,
   "id": "5f1e67ce",
   "metadata": {},
   "outputs": [],
   "source": [
    "import sys\n",
    "from pathlib import Path\n",
    "project_root = Path.cwd().parent  # 找出根目錄：Path.cwd()找出現在所在目錄(/run).parent(上一層是notebook).parent(再上層一層business_district_discovery)\n",
    "print(project_root)\n",
    "sys.path.append(str(project_root))"
   ]
  },
  {
   "cell_type": "code",
   "execution_count": null,
   "id": "5e24cb0b",
   "metadata": {},
   "outputs": [],
   "source": [
    "from matplotlib.font_manager import fontManager\n",
    "import matplotlib as mlp\n",
    "font_path = Path(project_root) / \"utils\" / \"ChineseFont.ttf\"\n",
    "fontManager.addfont(str(font_path))\n",
    "mlp.rc('font', family=\"ChineseFont\")"
   ]
  },
  {
   "cell_type": "code",
   "execution_count": null,
   "id": "be30710d",
   "metadata": {},
   "outputs": [],
   "source": [
    "# 讀取房屋稅籍資料\n",
    "input_dir = r\"C:\\pylabs\\area-risk-flagging\\data\\lvr_moi\\sale_data\\processed\"\n",
    "fn = \"預售屋備查.csv\"\n",
    "input_path = os.path.join(input_dir,  fn)\n",
    "# presale_df = pd.read_csv(input_path, dtype=str, encoding=\"utf-8-sig\")"
   ]
  },
  {
   "cell_type": "code",
   "execution_count": null,
   "id": "03998369",
   "metadata": {},
   "outputs": [],
   "source": [
    "output_dir  = r\"C:\\pylabs\\area-risk-flagging\\data\\lvr_moi\\sale_data\\temp_data\"           # 你想存放小檔的資料夾\n",
    "output_name = \"lvr_sale_data_test.csv\"               \n",
    "max_bytes   = 10 * 1024 * 1024                # 10 MB"
   ]
  },
  {
   "cell_type": "code",
   "execution_count": null,
   "id": "f6bf86c6",
   "metadata": {},
   "outputs": [],
   "source": [
    "# 2. 確保資料夾存在\n",
    "os.makedirs(output_dir, exist_ok=True)\n",
    "\n",
    "# 3. 組成完整輸出路徑\n",
    "output_path = os.path.join(output_dir, output_name)\n",
    "\n",
    "# 4. 讀標題＋寫入直到達到大小上限\n",
    "with open(input_path, \"rb\") as fr, open(output_path, \"wb\") as fw:\n",
    "    header = fr.readline()\n",
    "    fw.write(header)\n",
    "    total = len(header)\n",
    "    for line in fr:\n",
    "        if total + len(line) > max_bytes:\n",
    "            break\n",
    "        fw.write(line)\n",
    "        total += len(line)\n",
    "\n",
    "# 5. 回報\n",
    "size_mb = os.path.getsize(output_path) / 1024**2\n",
    "print(f\"已建立測試檔：{output_path}，大小約 {size_mb:.2f} MB\")"
   ]
  }
 ],
 "metadata": {
  "kernelspec": {
   "display_name": "area-risk-flagging",
   "language": "python",
   "name": "python3"
  },
  "language_info": {
   "codemirror_mode": {
    "name": "ipython",
    "version": 3
   },
   "file_extension": ".py",
   "mimetype": "text/x-python",
   "name": "python",
   "nbconvert_exporter": "python",
   "pygments_lexer": "ipython3",
   "version": "3.11.13"
  }
 },
 "nbformat": 4,
 "nbformat_minor": 5
}
