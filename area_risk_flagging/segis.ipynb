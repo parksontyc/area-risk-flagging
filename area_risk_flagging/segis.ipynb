{
 "cells": [
  {
   "cell_type": "markdown",
   "id": "184a0508",
   "metadata": {},
   "source": [
    "# 社區經濟資料服務平台 - 行政區房屋稅籍住宅類數量依屋齡區分_鄉鎮市區 資料下載"
   ]
  },
  {
   "cell_type": "code",
   "execution_count": 1,
   "id": "e081f8bf",
   "metadata": {},
   "outputs": [],
   "source": [
    "import re\n",
    "import os\n",
    "import time\n",
    "import zipfile\n",
    "import shutil\n",
    "import glob\n",
    "\n",
    "import pandas as pd\n",
    "import requests\n",
    "from bs4 import BeautifulSoup\n",
    "import urllib.parse\n",
    "from urllib.parse import unquote\n",
    "from tqdm import tqdm"
   ]
  },
  {
   "cell_type": "code",
   "execution_count": 2,
   "id": "df6daf6e",
   "metadata": {},
   "outputs": [],
   "source": [
    "# 1. 先 GET 介面，拿到 cookie + request-token\n",
    "session = requests.Session()\n",
    "session.headers.update({\n",
    "    \"User-Agent\":  \"Mozilla/5.0 (Windows NT 10.0; Win64; x64) AppleWebKit/537.36 (KHTML, like Gecko) Chrome/138.0.0.0 Safari/537.36\"})\n",
    "r1 = session.get(\"https://segis.moi.gov.tw/STATCloud/QueryInterface\")\n",
    "soup = BeautifulSoup(r1.text, \"html.parser\")\n",
    "token = soup.find(\"gs-request-token\")[\"value\"]"
   ]
  },
  {
   "cell_type": "code",
   "execution_count": 3,
   "id": "4873f702",
   "metadata": {},
   "outputs": [
    {
     "name": "stdout",
     "output_type": "stream",
     "text": [
      "200\n",
      "text/plain; charset=utf-8\n",
      "{\"total\":0,\"rows\":null,\"draw\":9,\"recordsTotal\":47,\"recordsFiltered\":47,\"data\":[{\"new_num\":1,\"SUB_PRODUCT_ID\":494802,\"SORT_ID\":193484,\"CNAME\":\"113年第4季行政區房屋稅籍住宅類數量依屋齡區分_鄉鎮市區_新北市\",\"CODE\":\"TW-04-301020000G-030007_U01TO-2024Q4-TW\",\"MID\":\"TW-04-301020000G-030007\",\"BOUNDARY_DESC\":\"全國\",\"BOUNDARY_INDEX\":\"U01-TW\",\"SUB_BOUNDARY_DESC\":\"新北市\",\"SUB_BOUNDARY_INDEX\":\"U01-TW-65000\",\"STUNIT_CODE\":\"U01TO\",\"STUNIT_NAME\":\"鄉鎮市區\",\"STTIME\":\"113Y4S\",\"APPLY_TYPE_ID\":0,\"PRODUCT_COUNT\":7,\"DEC_COL\":\"R%2fneI93iU2L5QNgHzGAiVA%\n"
     ]
    }
   ],
   "source": [
    "# 2. 準備 Form Data（把 DevTools Copy 的 Raw 字串貼到這裡）\n",
    "raw = (\"draw=9&columns%5B0%5D%5Bdata%5D=CNAME&\"\n",
    "\"columns%5B0%5D%5Bname%5D=CNAME&columns%5B0%5D%5Bsearchable%5D=true\"\n",
    "\"&columns%5B0%5D%5Borderable%5D=false&columns%5B0%5D%5Bsearch%5D%5Bvalue%5D=&\"\n",
    "\"columns%5B0%5D%5Bsearch%5D%5Bregex%5D=false&columns%5B1%5D%5Bdata%5D=BOUNDARY_DESC&\"\n",
    "\"columns%5B1%5D%5Bname%5D=BOUNDARY_DESC&columns%5B1%5D%5Bsearchable%5D=true&\"\n",
    "\"columns%5B1%5D%5Borderable%5D=false&columns%5B1%5D%5Bsearch%5D%5Bvalue%5D=&\"\n",
    "\"columns%5B1%5D%5Bsearch%5D%5Bregex%5D=false&columns%5B2%5D%5Bdata%5D=STUNIT_NAME&\"\n",
    "\"columns%5B2%5D%5Bname%5D=STUNIT_NAME&columns%5B2%5D%5Bsearchable%5D=true&columns%5B2%5D%5Borderable%5D=false&\"\n",
    "\"columns%5B2%5D%5Bsearch%5D%5Bvalue%5D=&columns%5B2%5D%5Bsearch%5D%5Bregex%5D=false&columns%5B3%5D%5Bdata%5D=PRODUCT_COUNT&\"\n",
    "\"columns%5B3%5D%5Bname%5D=PRODUCT_COUNT&columns%5B3%5D%5Bsearchable%5D=true&columns%5B3%5D%5Borderable%5D=false\"\n",
    "\"&columns%5B3%5D%5Bsearch%5D%5Bvalue%5D=&columns%5B3%5D%5Bsearch%5D%5Bregex%5D=false\"\n",
    "\"&columns%5B4%5D%5Bdata%5D=PRODUCT_COUNT&columns%5B4%5D%5Bname%5D=PRODUCT_COUNT&\"\n",
    "\"columns%5B4%5D%5Bsearchable%5D=true&columns%5B4%5D%5Borderable%5D=false&columns%5B4%5D%5Bsearch%5D%5Bvalue%5D=&\"\n",
    "\"columns%5B4%5D%5Bsearch%5D%5Bregex%5D=false&columns%5B5%5D%5Bdata%5D=PRODUCT_COUNT&\"\n",
    "\"columns%5B5%5D%5Bname%5D=PRODUCT_COUNT&columns%5B5%5D%5Bsearchable%5D=true&\"\n",
    "\"columns%5B5%5D%5Borderable%5D=false&columns%5B5%5D%5Bsearch%5D%5Bvalue%5D=&columns%5B5%5D%5Bsearch%5D%5Bregex%5D=false&\"\n",
    "\"start=0&length=4&search%5Bvalue%5D=&search%5Bregex%5D=false&method=dataset.GetDataSetList&division=&\"\n",
    "\"section=0&stunit=&boundary=&yearstart=&yearend=&opentype=&\"\n",
    "\"keyword=%E6%88%BF%E5%B1%8B%E7%A8%85%E7%B1%8D%E4%BD%8F%E5%AE%85%E9%A1%9E%E6%95%B8%E9%87%8F%E4%BE%9D%E5%B1%8B%E9%BD%A1%E5%8D%80%E5%88%86_%E9%84%89%E9%8E%AE%E5%B8%82%E5%8D%80_%E6%96%B0%E5%8C%97%E5%B8%82\")\n",
    "payload = dict(urllib.parse.parse_qsl(raw, encoding=\"utf-8\"))\n",
    "\n",
    "# 3. 把 token 加到 headers（或 payload）（瀏覽器是放在 header）\n",
    "session.headers.update({\n",
    "    \"Accept\": \"application/json, text/javascript, */*; q=0.01\",\n",
    "    \"Origin\": \"https://segis.moi.gov.tw\",\n",
    "    \"Referer\": \"https://segis.moi.gov.tw/STATCloud/QueryInterface\",\n",
    "    \"X-Requested-With\": \"XMLHttpRequest\",\n",
    "    \"Gs-Request-Token\": token,\n",
    "    # 如果你看到 Csrf-Token 也有值，就同理加上去\n",
    "    # \"Gs-Csrf-Token\": \"<從 DevTools 拷貝的值>\",\n",
    "})\n",
    "\n",
    "# 4. 發 POST\n",
    "api_url = \"https://segis.moi.gov.tw/STATCloud/reqcontroller.go\"\n",
    "resp = session.post(api_url, data=payload)\n",
    "\n",
    "print(resp.status_code)\n",
    "print(resp.headers.get(\"Content-Type\"))\n",
    "print(resp.text[:500])\n",
    "# 如果 status == 200 且是 JSON，就能：\n",
    "data = resp.json()\n"
   ]
  },
  {
   "cell_type": "code",
   "execution_count": 4,
   "id": "92785135",
   "metadata": {},
   "outputs": [
    {
     "name": "stdout",
     "output_type": "stream",
     "text": [
      "[{'code': 'Q%2fV8FPjww6jkhEMdMZUyHA%3d%3d', 'STTIME': '113Y4S', 'SUB_BOUNDARY': '新北市'}, {'code': 'mkrO5n%2bU2EQhrbqYAcTz%2fA%3d%3d', 'STTIME': '113Y2S', 'SUB_BOUNDARY': '新北市'}, {'code': 'UUWTHNgczbO4jZV%2b7pBV5A%3d%3d', 'STTIME': '113Y1S', 'SUB_BOUNDARY': '新北市'}, {'code': 'qQVgCNnVg8Fmd99EN%2bMZhQ%3d%3d', 'STTIME': '112Y4S', 'SUB_BOUNDARY': '新北市'}]\n"
     ]
    }
   ],
   "source": [
    "base = \"https://segis.moi.gov.tw/STATCloud/reqcontroller.file\"\n",
    "output_dir = r\"C:\\pylabs\\area-risk-flagging\\data\\segis\\raw_data\"\n",
    "os.makedirs(output_dir, exist_ok=True)\n",
    "\n",
    "extracted = [\n",
    "    {\n",
    "        \"code\": item[\"DEC_MCOL\"],\n",
    "        \"STTIME\": item[\"STTIME\"],\n",
    "        \"SUB_BOUNDARY\": item[\"SUB_BOUNDARY_DESC\"],\n",
    "    }\n",
    "    for item in data[\"data\"]\n",
    "]\n",
    "print(extracted)"
   ]
  },
  {
   "cell_type": "code",
   "execution_count": 5,
   "id": "bf2c2750",
   "metadata": {},
   "outputs": [
    {
     "name": "stderr",
     "output_type": "stream",
     "text": [
      "Downloading & Extracting: 100%|██████████| 4/4 [00:23<00:00,  5.91s/it]"
     ]
    },
    {
     "name": "stdout",
     "output_type": "stream",
     "text": [
      "所有檔案下載並解壓完成！\n"
     ]
    },
    {
     "name": "stderr",
     "output_type": "stream",
     "text": [
      "\n"
     ]
    }
   ],
   "source": [
    "for item in tqdm(extracted, desc=\"Downloading & Extracting\"):\n",
    "    params = {\n",
    "        \"method\":       \"filedown.downloadproductfile\",\n",
    "        \"code\":         item[\"code\"],\n",
    "        \"STTIME\":       item[\"STTIME\"],\n",
    "        \"STUNIT\":       \"U01TO\",\n",
    "        \"BOUNDARY\":     \"全國\",\n",
    "        \"SUB_BOUNDARY\": item[\"SUB_BOUNDARY\"],\n",
    "    }\n",
    "\n",
    "    resp = session.get(base, params=params, stream=True)\n",
    "    if resp.status_code != 200:\n",
    "        print(f\"下載失敗：{item['STTIME']} ({resp.status_code})\")\n",
    "        continue\n",
    "\n",
    "    # 檔名：STTIME_SUB_BOUNDARY.zip\n",
    "    safe_boundary = re.sub(r'[<>:\"/\\\\|?*\\n\\r]', \"_\", item[\"SUB_BOUNDARY\"])\n",
    "    filename = f\"{item['STTIME']}_{safe_boundary}.zip\"\n",
    "    filepath = os.path.join(output_dir, filename)\n",
    "\n",
    "    # 寫入 ZIP 檔\n",
    "    with open(filepath, \"wb\") as f:\n",
    "        for chunk in resp.iter_content(chunk_size=8192):\n",
    "            if chunk:\n",
    "                f.write(chunk)\n",
    "\n",
    "    # 如果是合法的 ZIP，則解壓到同名資料夾\n",
    "    if zipfile.is_zipfile(filepath):\n",
    "        extract_dir = os.path.join(output_dir, f\"{item['STTIME']}_{safe_boundary}\")\n",
    "        os.makedirs(extract_dir, exist_ok=True)\n",
    "        with zipfile.ZipFile(filepath, 'r') as zf:\n",
    "            zf.extractall(extract_dir)\n",
    "        # 刪除已解壓的 ZIP 檔\n",
    "        os.remove(filepath)\n",
    "    else:\n",
    "        print(f\"{filename} 不是合法的 ZIP 檔，跳過解壓\")\n",
    "\n",
    "    # 每下載並解壓完一個檔案後暫停 5 秒\n",
    "    time.sleep(5)\n",
    "\n",
    "print(\"所有檔案下載並解壓完成！\")"
   ]
  },
  {
   "cell_type": "code",
   "execution_count": 18,
   "id": "4fb38368",
   "metadata": {},
   "outputs": [
    {
     "name": "stdout",
     "output_type": "stream",
     "text": [
      "已將所有 CSV 複製到：C:\\pylabs\\area-risk-flagging\\data\\segis\\source\n"
     ]
    }
   ],
   "source": [
    "raw_root = r\"C:\\pylabs\\area-risk-flagging\\data\\segis\"\n",
    "source_dir = os.path.join(raw_root, \"source\")\n",
    "os.makedirs(source_dir, exist_ok=True)\n",
    "\n",
    "for dirpath, dirnames, filenames in os.walk(raw_root):\n",
    "    # 跳過 processing 本身\n",
    "    if os.path.abspath(dirpath) == os.path.abspath(source_dir):\n",
    "        continue\n",
    "\n",
    "    for fn in filenames:\n",
    "        if fn.lower().endswith(\".csv\"):\n",
    "            src = os.path.join(dirpath, fn)\n",
    "            # 如果不同子資料夾裡有相同檔名，你可以加上子資料夾前綴避免覆寫：\n",
    "            # sub = os.path.basename(dirpath)\n",
    "            # dst_name = f\"{sub}_{fn}\"\n",
    "            # 或直接用原檔名：\n",
    "            dst_name = fn\n",
    "            dst = os.path.join(source_dir, dst_name)\n",
    "            shutil.copy2(src, dst)\n",
    "\n",
    "print(f\"已將所有 CSV 複製到：{source_dir}\")"
   ]
  },
  {
   "cell_type": "code",
   "execution_count": 22,
   "id": "12a1fbb3",
   "metadata": {},
   "outputs": [
    {
     "name": "stdout",
     "output_type": "stream",
     "text": [
      "[INFO] 一共找到 4 個要合併的 CSV：\n",
      "   112年第4季行政區房屋稅籍住宅類數量依屋齡區分_鄉鎮市區_新北市.csv\n",
      "   113年第1季行政區房屋稅籍住宅類數量依屋齡區分_鄉鎮市區_新北市.csv\n",
      "   113年第2季行政區房屋稅籍住宅類數量依屋齡區分_鄉鎮市區_新北市.csv\n",
      "   113年第4季行政區房屋稅籍住宅類數量依屋齡區分_鄉鎮市區_新北市.csv\n",
      "[DONE] 合併完成，檔案位置：C:\\pylabs\\area-risk-flagging\\data\\segis\\processed\\房屋稅籍住宅類數量依屋齡區分_鄉鎮市區.csv\n"
     ]
    }
   ],
   "source": [
    "\n",
    "# 合併csv檔案\n",
    "source_dir = r\"C:\\pylabs\\area-risk-flagging\\data\\segis\\source\"\n",
    "\n",
    "raw_root = r\"C:\\pylabs\\area-risk-flagging\\data\\segis\"\n",
    "processed_dir = os.path.join(raw_root, \"processed\")\n",
    "os.makedirs(processed_dir, exist_ok=True)\n",
    "output_fname = \"房屋稅籍住宅類數量依屋齡區分_鄉鎮市區.csv\"\n",
    "output_path = os.path.join(processed_dir, output_fname)\n",
    "\n",
    "# 1. 列出所有 CSV，並排除掉最終輸出檔\n",
    "all_files = sorted(glob.glob(os.path.join(source_dir, \"*.csv\")))\n",
    "csv_files = [f for f in all_files if os.path.basename(f) != output_fname]\n",
    "\n",
    "if not csv_files:\n",
    "    raise RuntimeError(\"processing 資料夾裡找不到任何原始 CSV 檔！\")\n",
    "\n",
    "print(f\"[INFO] 一共找到 {len(csv_files)} 個要合併的 CSV：\")\n",
    "for f in csv_files:\n",
    "    print(\"  \", os.path.basename(f))\n",
    "\n",
    "# 2. 讀第一個檔案，header=1 代表用第二列作欄位名稱，並自動跳過第一列\n",
    "first_fp = csv_files[0]\n",
    "df0 = pd.read_csv(\n",
    "    first_fp,\n",
    "    encoding=\"utf-8-sig\",\n",
    "    header=1  # 用第二列(中文說明列)當欄位名稱，資料從第三列開始\n",
    ")\n",
    "columns = df0.columns.tolist()\n",
    "df_list = [df0]\n",
    "\n",
    "# 3. 其餘檔案：跳過前兩列，只讀真正的資料列，並套用同一組欄位名稱\n",
    "for fp in csv_files[1:]:\n",
    "    df = pd.read_csv(\n",
    "        fp,\n",
    "        encoding=\"utf-8-sig\",\n",
    "        header=None,\n",
    "        skiprows=2,   # 跳過第一列與第二列\n",
    "        names=columns\n",
    "    )\n",
    "    df_list.append(df)\n",
    "\n",
    "# 4. 合併並輸出\n",
    "combined = pd.concat(df_list, ignore_index=True)\n",
    "combined.to_csv(output_path, index=False, encoding=\"utf-8-sig\")\n",
    "\n",
    "print(f\"[DONE] 合併完成，檔案位置：{output_path}\")\n"
   ]
  }
 ],
 "metadata": {
  "kernelspec": {
   "display_name": "area-risk-flagging",
   "language": "python",
   "name": "python3"
  },
  "language_info": {
   "codemirror_mode": {
    "name": "ipython",
    "version": 3
   },
   "file_extension": ".py",
   "mimetype": "text/x-python",
   "name": "python",
   "nbconvert_exporter": "python",
   "pygments_lexer": "ipython3",
   "version": "3.11.13"
  }
 },
 "nbformat": 4,
 "nbformat_minor": 5
}
