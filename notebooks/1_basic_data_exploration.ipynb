{
 "cells": [
  {
   "cell_type": "markdown",
   "id": "bddda644",
   "metadata": {},
   "source": [
    "### 1_basic_data_exploration.ipynb\n",
    "## community data and transection data eda\n",
    "目標：\n",
    "✅ 載入並檢視原始資料結構\n",
    "✅ 驗證PRD文件中的資料描述\n",
    "✅ 識別資料品質問題\n",
    "\n",
    "內容大綱：\n"
   ]
  },
  {
   "cell_type": "code",
   "execution_count": null,
   "id": "5c97f2b2",
   "metadata": {},
   "outputs": [],
   "source": [
    "import os\n",
    "import ast\n",
    "import pandas as pd\n",
    "import numpy as np\n",
    "import matplotlib.pyplot as plt\n",
    "import seaborn as sns\n",
    "import plotly.express as px\n",
    "import plotly.graph_objects as go\n",
    "from datetime import datetime, timedelta\n",
    "import warnings\n",
    "warnings.filterwarnings('ignore')"
   ]
  },
  {
   "cell_type": "code",
   "execution_count": null,
   "id": "2975e01b",
   "metadata": {},
   "outputs": [],
   "source": [
    "import sys\n",
    "from pathlib import Path\n",
    "project_root = Path.cwd().parent  # 找出根目錄：Path.cwd()找出現在所在目錄(/run).parent(上一層是notebook).parent(再上層一層business_district_discovery)\n",
    "print(project_root)\n",
    "sys.path.append(str(project_root))"
   ]
  },
  {
   "cell_type": "code",
   "execution_count": null,
   "id": "b609e8a8",
   "metadata": {},
   "outputs": [],
   "source": [
    "from utils.helper_func import convert_mixed_date_columns, calculate_presale_transaction_counts, calculate_cancellation_counts, calculate_first_transaction_dates_fast, correct_sales_start_date\n",
    "from utils.helper_func import process_duplicate_communities, sample_csv_to_target_size"
   ]
  },
  {
   "cell_type": "code",
   "execution_count": null,
   "id": "9dac71f5",
   "metadata": {},
   "outputs": [],
   "source": [
    "from matplotlib.font_manager import fontManager\n",
    "import matplotlib as mlp\n",
    "font_path = Path(project_root) / 'utils'/\"ChineseFont.ttf\"\n",
    "fontManager.addfont(str(font_path))\n",
    "mlp.rc('font', family=\"ChineseFont\")\n",
    "print(font_path)"
   ]
  },
  {
   "cell_type": "code",
   "execution_count": null,
   "id": "10ae5f59",
   "metadata": {},
   "outputs": [],
   "source": [
    "# 預售屋備查(community data) / 實價預售交易資料(transection data )\n",
    "community_dir = r\"C:\\pylabs\\area-risk-flagging\\data\\lvr_moi\\community_data\\processed\"\n",
    "community_fn = \"community_data.csv\"\n",
    "community_input_path = os.path.join(community_dir,  community_fn)\n",
    "\n",
    "\n",
    "transaction_dir = r\"C:\\pylabs\\area-risk-flagging\\data\\lvr_moi\\transection_data\\pre_sale\\processed\"\n",
    "transaction_fn = \"ps_transaction_data.csv\"\n",
    "transaction_input_path = os.path.join(transaction_dir,  transaction_fn)"
   ]
  },
  {
   "cell_type": "markdown",
   "id": "0e214b52",
   "metadata": {},
   "source": [
    "### 2. 資料載入與基本資訊檢視"
   ]
  },
  {
   "cell_type": "code",
   "execution_count": null,
   "id": "969ea9d2",
   "metadata": {},
   "outputs": [],
   "source": [
    "print(\" 載入資料檔案...\")\n",
    "print(\"=\" * 80)\n",
    "print(\" 資料基本資訊總覽\")\n",
    "print(\"=\" * 80)\n",
    "try:\n",
    "    # 載入預售社區資料\n",
    "    community_df = pd.read_csv(community_input_path, encoding='utf-8')\n",
    "    print(f\" 預售社區資料載入成功: {community_df.shape}  記憶體使用: {community_df.memory_usage(deep=True).sum() / 1024**2:.2f} MB\")\n",
    "    \n",
    "    # 載入「預售」逐筆交易資料  \n",
    "    transaction_df = pd.read_csv(transaction_input_path, encoding='utf-8')\n",
    "    print(f\" 逐筆交易資料載入成功: {transaction_df.shape}  記憶體使用: {transaction_df.memory_usage(deep=True).sum() / 1024**2:.2f} MB\")\n",
    "    \n",
    "except FileNotFoundError as e:\n",
    "    print(f\" 檔案載入失敗: {e}\")\n",
    "    print(\" 請確認檔案是否放置在資料夾中\")\n",
    "except Exception as e:\n",
    "    print(f\" 載入過程發生錯誤: {e}\")"
   ]
  },
  {
   "cell_type": "code",
   "execution_count": null,
   "id": "28fd703a",
   "metadata": {},
   "outputs": [],
   "source": [
    "def info(df):\n",
    "    \"\"\"\n",
    "    顯示 DataFrame 欄位資訊，包括資料型別、非空值數量、缺失數量與缺失率。\n",
    "    參數：\n",
    "    df (pd.DataFrame): 要檢視的資料表。\n",
    "    \"\"\"      \n",
    "    print(\"-\" * 50)\n",
    "    summary = pd.DataFrame({\n",
    "        '欄位名稱': df.columns,\n",
    "        '資料型別': df.dtypes,\n",
    "        '非空值數量': df.count(),\n",
    "        '缺失值數量': df.isnull().sum(),\n",
    "        '缺失率(%)': (df.isnull().sum() / len(df) * 100).round(2)\n",
    "    }).reset_index(drop=True)\n",
    "\n",
    "    return summary"
   ]
  },
  {
   "cell_type": "code",
   "execution_count": null,
   "id": "5f7fad71",
   "metadata": {},
   "outputs": [],
   "source": [
    "print(\"預售社區資料欄位資訊:\")\n",
    "display(info(community_df))\n",
    "\n",
    "# 建立交易資料欄位資訊\n",
    "print(\"逐筆交易資料欄位資訊:\")\n",
    "display(info(transaction_df))"
   ]
  },
  {
   "cell_type": "code",
   "execution_count": null,
   "id": "8a3ad95e",
   "metadata": {},
   "outputs": [],
   "source": [
    "# 欄位型態轉換\n",
    "# 面積/價格欄位\n",
    "transaction_df['總面積'] = (\n",
    "    transaction_df['總面積']\n",
    "    .astype(str)                           # 確保是字串\n",
    "    .str.replace(',', '', regex=False)    # 移除千分位逗號\n",
    "    .astype(float)                        # 轉成 float\n",
    ")\n",
    "\n",
    "# 將「車位總價」欄位轉為 int64（整數），並處理可能的逗號格式\n",
    "transaction_df['車位總價'] = (\n",
    "    transaction_df['車位總價']\n",
    "                                                   # 先轉字串\n",
    "    .str.replace(',', '', regex=False)     # 移除千分位逗號\n",
    "    .astype(float)                            # 先轉 float\n",
    "    .round(0)                                 # 四捨五入（可選）\n",
    "    .astype('Int64')                         # Pandas 支援缺值的整數型別\n",
    ")\n",
    "\n",
    "# display(community_df.dtypes, transaction_df.dtypes)"
   ]
  },
  {
   "cell_type": "code",
   "execution_count": null,
   "id": "93aef9d0",
   "metadata": {},
   "outputs": [],
   "source": [
    "# 日期欄位轉換\n",
    "# 民國整數欄位 roc_integer_cols\n",
    "# 民國斜線欄位（交易資料表）roc_slash_cols\n",
    "# 西元欄位ad_cols\n",
    "\n",
    "community_df = convert_mixed_date_columns(\n",
    "    community_df,\n",
    "    roc_cols=['銷售起始時間', '完成建物第一次登記日期', '自售起始時間', '代銷起始時間', '備查完成日期', '建照核發日'],\n",
    "    ad_cols=['匯入時間']\n",
    ")\n",
    "\n",
    "transaction_df = convert_mixed_date_columns(\n",
    "    transaction_df,\n",
    "    roc_slash_cols=['交易日期'],\n",
    "    roc_cols=['解約日期'],\n",
    "    ad_cols=['匯入時間']\n",
    ")"
   ]
  },
  {
   "cell_type": "code",
   "execution_count": null,
   "id": "8685efac",
   "metadata": {},
   "outputs": [],
   "source": [
    "# community_data 及 transaction_data轉換資料型態\n",
    "# 轉換所有 object 欄位成 string\n",
    "for d in [community_df, transaction_df]:\n",
    "    d[d.select_dtypes(include='object').columns] = d.select_dtypes(include='object').astype('string')"
   ]
  },
  {
   "cell_type": "code",
   "execution_count": null,
   "id": "946819cf",
   "metadata": {},
   "outputs": [],
   "source": [
    "# 回填錯誤格式的銷售起始時間\n",
    "community_df.loc[community_df['編號'] == 'G2A011008090001', '銷售起始時間'] = pd.to_datetime('2020-09-30')\n",
    "community_df.loc[community_df['編號'] == 'G2G011106180002', '銷售起始時間'] = pd.to_datetime('2022-07-01')"
   ]
  },
  {
   "cell_type": "code",
   "execution_count": null,
   "id": "c2d45d13",
   "metadata": {},
   "outputs": [],
   "source": [
    "# community_df新增「預售交易筆數」欄位，計算每個預售社區的交易筆數\n",
    "community_df['預售交易筆數'] = calculate_presale_transaction_counts(\n",
    "    community_df, \n",
    "    transaction_df\n",
    ")"
   ]
  },
  {
   "cell_type": "code",
   "execution_count": null,
   "id": "495ed25f",
   "metadata": {},
   "outputs": [],
   "source": [
    "community_df['解約筆數'] = calculate_cancellation_counts(\n",
    "    community_df, \n",
    "    transaction_df\n",
    "    )"
   ]
  },
  {
   "cell_type": "code",
   "execution_count": null,
   "id": "c1508d81",
   "metadata": {},
   "outputs": [],
   "source": [
    "# print(\" 計算最初交易日期...\")\n",
    "community_df['最初交易日期'] = calculate_first_transaction_dates_fast(community_df, transaction_df)"
   ]
  },
  {
   "cell_type": "code",
   "execution_count": null,
   "id": "4020361d",
   "metadata": {},
   "outputs": [],
   "source": [
    "# 如果最初第一筆交易日期小於銷售起始日期，則以第一筆交易日期替代銷售起始日\n",
    "community_df = correct_sales_start_date(community_df)"
   ]
  },
  {
   "cell_type": "code",
   "execution_count": null,
   "id": "252417f7",
   "metadata": {},
   "outputs": [],
   "source": [
    "# 檢查是否有重複的社區組合\n",
    "community_duplicates = community_df[\n",
    "    community_df.duplicated(subset=['行政區','建照執照', '經度'], keep=False)\n",
    "].sort_values(by=['行政區','建照執照', '經度'])\n",
    "\n",
    "# 顯示結果\n",
    "if not community_duplicates.empty:\n",
    "    print(\"🔁 發現重複交易紀錄如下：\")\n",
    "    display(community_duplicates)\n",
    "else:\n",
    "    print(\"✅ 沒有發現以『'行政區','建照執照'』為鍵的重複交易紀錄\")"
   ]
  },
  {
   "cell_type": "code",
   "execution_count": null,
   "id": "4d4d9bfd",
   "metadata": {},
   "outputs": [],
   "source": [
    "# 重複出現的社區合併處理，並新增有效/無效欄位區別\n",
    "community_df = process_duplicate_communities(community_df)"
   ]
  },
  {
   "cell_type": "code",
   "execution_count": null,
   "id": "ee72e133",
   "metadata": {},
   "outputs": [],
   "source": [
    "# 檢視transaction_df的重複登記資料(日期+流水號)\n",
    "\n",
    "# 檢查是否有重複的「交易日期 + 流水號」組合\n",
    "duplicates = transaction_df[\n",
    "    transaction_df.duplicated(subset=['交易日期', '流水號'], keep=False)\n",
    "].sort_values(by=['交易日期', '流水號'])\n",
    "\n",
    "# 顯示結果\n",
    "if not duplicates.empty:\n",
    "    print(\"🔁 發現重複交易紀錄如下：\")\n",
    "    print(duplicates)\n",
    "else:\n",
    "    print(\"✅ 沒有發現以『交易日期 + 流水號』為鍵的重複交易紀錄\")"
   ]
  },
  {
   "cell_type": "code",
   "execution_count": null,
   "id": "683783f7",
   "metadata": {},
   "outputs": [],
   "source": [
    "print(\"預售社區資料欄位資訊:\")\n",
    "display(info(community_df))\n",
    "\n",
    "# 建立交易資料欄位資訊\n",
    "print(\"逐筆交易資料欄位資訊:\")\n",
    "display(info(transaction_df))"
   ]
  },
  {
   "cell_type": "markdown",
   "id": "27d7b1d6",
   "metadata": {},
   "source": [
    "### 3. 資料樣本檢視與格式分析"
   ]
  },
  {
   "cell_type": "code",
   "execution_count": null,
   "id": "4cd52294",
   "metadata": {},
   "outputs": [],
   "source": [
    "display(community_df.columns)\n",
    "display(transaction_df.columns)"
   ]
  },
  {
   "cell_type": "code",
   "execution_count": null,
   "id": "c54d9a6c",
   "metadata": {},
   "outputs": [],
   "source": [
    "community_df[community_df['預售交易筆數'] == 0].groupby(['縣市']).size()"
   ]
  },
  {
   "cell_type": "code",
   "execution_count": null,
   "id": "f86d621f",
   "metadata": {},
   "outputs": [],
   "source": [
    "test_df = community_df[(community_df['預售交易筆數'] == 0) & (community_df['縣市'] == '臺中市')]\n"
   ]
  },
  {
   "cell_type": "code",
   "execution_count": null,
   "id": "797dfe7b",
   "metadata": {},
   "outputs": [],
   "source": [
    "test_df['季度'] = test_df['銷售起始時間'].dt.to_period('Q').astype(str)\n"
   ]
  },
  {
   "cell_type": "code",
   "execution_count": null,
   "id": "a5bad039",
   "metadata": {},
   "outputs": [],
   "source": [
    "a = test_df.groupby(['季度'])\n",
    "a.size()\n"
   ]
  },
  {
   "cell_type": "code",
   "execution_count": null,
   "id": "4676519c",
   "metadata": {},
   "outputs": [],
   "source": [
    "transaction_df[transaction_df['備查編號'] == '\tG1A011008050001']"
   ]
  },
  {
   "cell_type": "code",
   "execution_count": null,
   "id": "88dcb043",
   "metadata": {},
   "outputs": [],
   "source": [
    "# 檢視預售社區/逐筆銷售資料樣本\n",
    "print(\"🔍 預售社區資料前5筆樣本:\")\n",
    "print(\"=\" * 80)\n",
    "display(community_df.head())\n",
    "\n",
    "# %%\n",
    "print(\"\\n🔍 逐筆交易資料前5筆樣本:\")\n",
    "print(\"=\" * 80)\n",
    "display(transaction_df.head())"
   ]
  },
  {
   "cell_type": "code",
   "execution_count": null,
   "id": "231c6702",
   "metadata": {},
   "outputs": [],
   "source": [
    "# 輸出的資料夾\n",
    "output_dir = r\"C:\\pylabs\\area-risk-flagging\\data\\lvr_moi\\community_data\\processed\"\n",
    "os.makedirs(output_dir, exist_ok=True)\n",
    "\n",
    "csv_fn = \"community_data_proc.csv\"\n",
    "out_path = os.path.join(output_dir,  csv_fn)\n",
    "community_df.to_csv(out_path, index=False, encoding='utf-8-sig')\n",
    "\n",
    "pkl_fn   = \"community_data_proc.pkl\"\n",
    "pkl_path = os.path.join(output_dir, pkl_fn)\n",
    "community_df.to_pickle(pkl_path)"
   ]
  },
  {
   "cell_type": "code",
   "execution_count": null,
   "id": "f35f23c9",
   "metadata": {},
   "outputs": [],
   "source": [
    "# 輸出的資料夾\n",
    "output_dir = r\"C:\\pylabs\\area-risk-flagging\\data\\lvr_moi\\transection_data\\processed\"\n",
    "os.makedirs(output_dir, exist_ok=True)\n",
    "\n",
    "csv_fn = \"transection_data_proc.csv\"\n",
    "out_path = os.path.join(output_dir,  csv_fn)\n",
    "transaction_df.to_csv(out_path, index=False, encoding='utf-8-sig')\n",
    "\n",
    "pkl_fn   = \"transection_data_proc.pkl\"\n",
    "pkl_path = os.path.join(output_dir, pkl_fn)\n",
    "transaction_df.to_pickle(pkl_path)"
   ]
  },
  {
   "cell_type": "code",
   "execution_count": null,
   "id": "88102c42",
   "metadata": {},
   "outputs": [],
   "source": [
    "# 製作小型測試檔\n",
    "\n",
    "raw_input_dir = r\"C:\\pylabs\\area-risk-flagging\\data\\lvr_moi\\transection_data\\processed\"\n",
    "raw_fn = \"transection_data_proc.csv\"\n",
    "raw_data_path = os.path.join(raw_input_dir,  raw_fn)\n",
    "\n",
    "test_output_dir = r\"C:\\pylabs\\area-risk-flagging\\data\\lvr_moi\\transection_data\\processed\"\n",
    "test_fn = \"transection_data_test.csv\"\n",
    "test_data_path = os.path.join(test_output_dir,  test_fn)"
   ]
  },
  {
   "cell_type": "code",
   "execution_count": null,
   "id": "857256fc",
   "metadata": {},
   "outputs": [],
   "source": [
    "sampled = sample_csv_to_target_size(\n",
    "    input_path=raw_data_path,\n",
    "    output_path=test_data_path,\n",
    "    target_mb=40\n",
    ")"
   ]
  },
  {
   "cell_type": "code",
   "execution_count": null,
   "id": "8d2c9a4d",
   "metadata": {},
   "outputs": [],
   "source": [
    "def get_city_absorption_stats(community_df, city_name):\n",
    "    \"\"\"\n",
    "    Return presale absorption statistics for a given city,\n",
    "    including a summary row with total counts and net absorption rate.\n",
    "    \"\"\"\n",
    "    # 計算統計表\n",
    "    community_stats_df = (\n",
    "        community_df\n",
    "        .groupby(['縣市', '行政區'], as_index=False)\n",
    "        .agg(\n",
    "            社區數=('編號', 'nunique'),  # 統計不重複的社區編號數\n",
    "            戶數總和=('戶數', 'sum'),     # 加總戶數\n",
    "            銷售總和=('預售交易筆數', 'sum'),  #加總預售交易筆數\n",
    "            解約總和=('解約筆數', 'sum')\n",
    "            )\n",
    "        .assign(\n",
    "            淨去化比率=lambda df: ((df['銷售總和']-df['解約總和'])/df['戶數總和']).round(4)\n",
    "            )\n",
    "        .sort_values(by='淨去化比率', ascending=False)  # 按去化比率排序（由高至低）\n",
    "        .reset_index(drop=True)  # 重設索引（讓排序後的 index 是連續的）\n",
    "        )\n",
    "    \n",
    "    # Filter for the selected city\n",
    "    city_df = community_stats_df[community_stats_df['縣市'] == city_name].reset_index(drop=True)\n",
    "\n",
    "    # Create total row\n",
    "    total_row = pd.DataFrame({\n",
    "        '縣市': [city_name],\n",
    "        '行政區': ['合計'],\n",
    "        '社區數': [city_df['社區數'].sum()],\n",
    "        '戶數總和': [city_df['戶數總和'].sum()],\n",
    "        '銷售總和': [city_df['銷售總和'].sum()],\n",
    "        '解約總和': [city_df['解約總和'].sum()]\n",
    "    })\n",
    "\n",
    "    # Compute net absorption rate for total\n",
    "    total_row['淨去化比率'] = (\n",
    "        (total_row['銷售總和'] - total_row['解約總和']) / total_row['戶數總和']\n",
    "    ).round(4)\n",
    "\n",
    "    # Concatenate and return\n",
    "    return pd.concat([city_df, total_row], ignore_index=True)\n"
   ]
  },
  {
   "cell_type": "code",
   "execution_count": null,
   "id": "2731f365",
   "metadata": {},
   "outputs": [],
   "source": [
    "stats_df = get_city_absorption_stats(community_df, '高雄市')\n",
    "display(stats_df)"
   ]
  },
  {
   "cell_type": "code",
   "execution_count": null,
   "id": "af9cd118",
   "metadata": {},
   "outputs": [],
   "source": [
    "main_use_df = community_df['主要用途'].value_counts(dropna=False).reset_index()\n",
    "main_use_df.columns = ['主要用途', '筆數']\n",
    "display(main_use_df)"
   ]
  },
  {
   "cell_type": "code",
   "execution_count": null,
   "id": "0c4b6d2c",
   "metadata": {},
   "outputs": [],
   "source": [
    "# 檢查是否有重複的「交易日期 + 流水號」組合\n",
    "community_duplicates = community_df[\n",
    "    community_df.duplicated(subset=['行政區','建照執照', '經度'], keep=False)\n",
    "].sort_values(by=['行政區','建照執照', '經度'])\n",
    "\n",
    "# 顯示結果\n",
    "if not community_duplicates.empty:\n",
    "    print(\"🔁 發現重複交易紀錄如下：\")\n",
    "    display(community_duplicates)\n",
    "else:\n",
    "    print(\"✅ 沒有發現以『'行政區','建照執照'』為鍵的重複交易紀錄\")"
   ]
  }
 ],
 "metadata": {
  "kernelspec": {
   "display_name": "area-risk-flagging",
   "language": "python",
   "name": "python3"
  },
  "language_info": {
   "codemirror_mode": {
    "name": "ipython",
    "version": 3
   },
   "file_extension": ".py",
   "mimetype": "text/x-python",
   "name": "python",
   "nbconvert_exporter": "python",
   "pygments_lexer": "ipython3",
   "version": "3.11.13"
  }
 },
 "nbformat": 4,
 "nbformat_minor": 5
}
