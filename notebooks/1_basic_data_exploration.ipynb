{
 "cells": [
  {
   "cell_type": "markdown",
   "id": "bddda644",
   "metadata": {},
   "source": [
    "### 1_basic_data_exploration.ipynb\n",
    "## community data and transection data eda\n",
    "目標：\n",
    "✅ 載入並檢視原始資料結構\n",
    "✅ 驗證PRD文件中的資料描述\n",
    "✅ 識別資料品質問題\n",
    "\n",
    "內容大綱：\n",
    "1. 環境設定與套件載入\n",
    "2. 資料載入與基本資訊檢視\n",
    "3. 欄位格式分析與資料型別檢查\n",
    "4. 缺失值與異常值初步分析\n",
    "5. 時間範圍與地理分布驗證\n",
    "6. 資料匹配率分析"
   ]
  },
  {
   "cell_type": "code",
   "execution_count": null,
   "id": "5c97f2b2",
   "metadata": {},
   "outputs": [],
   "source": [
    "import os\n",
    "import ast\n",
    "import pandas as pd\n",
    "import numpy as np\n",
    "import matplotlib.pyplot as plt\n",
    "import seaborn as sns\n",
    "import plotly.express as px\n",
    "import plotly.graph_objects as go\n",
    "from datetime import datetime, timedelta\n",
    "import warnings\n",
    "warnings.filterwarnings('ignore')"
   ]
  },
  {
   "cell_type": "code",
   "execution_count": null,
   "id": "2975e01b",
   "metadata": {},
   "outputs": [],
   "source": [
    "import sys\n",
    "from pathlib import Path\n",
    "project_root = Path.cwd().parent  # 找出根目錄：Path.cwd()找出現在所在目錄(/run).parent(上一層是notebook).parent(再上層一層business_district_discovery)\n",
    "print(project_root)\n",
    "sys.path.append(str(project_root))"
   ]
  },
  {
   "cell_type": "code",
   "execution_count": null,
   "id": "b609e8a8",
   "metadata": {},
   "outputs": [],
   "source": [
    "from utils.helper_func import convert_mixed_date_columns, calculate_presale_transaction_counts"
   ]
  },
  {
   "cell_type": "code",
   "execution_count": null,
   "id": "9dac71f5",
   "metadata": {},
   "outputs": [],
   "source": [
    "from matplotlib.font_manager import fontManager\n",
    "import matplotlib as mlp\n",
    "font_path = Path(project_root) / 'utils'/\"ChineseFont.ttf\"\n",
    "fontManager.addfont(str(font_path))\n",
    "mlp.rc('font', family=\"ChineseFont\")\n",
    "print(font_path)"
   ]
  },
  {
   "cell_type": "code",
   "execution_count": null,
   "id": "10ae5f59",
   "metadata": {},
   "outputs": [],
   "source": [
    "# 預售屋備查(community data) / 實價預售交易資料(transection data )\n",
    "community_dir = r\"C:\\pylabs\\area-risk-flagging\\data\\lvr_moi\\community_data\\processed\"\n",
    "community_fn = \"community_data.csv\"\n",
    "community_input_path = os.path.join(community_dir,  community_fn)\n",
    "\n",
    "\n",
    "transaction_dir = r\"C:\\pylabs\\area-risk-flagging\\data\\lvr_moi\\transection_data\\processed\"\n",
    "transaction_fn = \"transection_data.csv\"\n",
    "transaction_input_path = os.path.join(transaction_dir,  transaction_fn)"
   ]
  },
  {
   "cell_type": "code",
   "execution_count": null,
   "id": "64d93710",
   "metadata": {},
   "outputs": [],
   "source": [
    "print(\" 環境設定完成\")\n",
    "print(f\" 分析時間: {datetime.now().strftime('%Y-%m-%d %H:%M:%S')}\")"
   ]
  },
  {
   "cell_type": "markdown",
   "id": "0e214b52",
   "metadata": {},
   "source": [
    "### 2. 資料載入與基本資訊檢視"
   ]
  },
  {
   "cell_type": "code",
   "execution_count": null,
   "id": "969ea9d2",
   "metadata": {},
   "outputs": [],
   "source": [
    "print(\" 載入資料檔案...\")\n",
    "try:\n",
    "    # 載入預售社區資料\n",
    "    community_df = pd.read_csv(community_input_path, encoding='utf-8')\n",
    "    print(f\" 預售社區資料載入成功: {community_df.shape}\")\n",
    "    \n",
    "    # 載入逐筆交易資料  \n",
    "    transaction_df = pd.read_csv(transaction_input_path, encoding='utf-8')\n",
    "    print(f\" 逐筆交易資料載入成功: {transaction_df.shape}\")\n",
    "    \n",
    "except FileNotFoundError as e:\n",
    "    print(f\" 檔案載入失敗: {e}\")\n",
    "    print(\" 請確認檔案是否放置在 ../data/raw/ 資料夾中\")\n",
    "except Exception as e:\n",
    "    print(f\" 載入過程發生錯誤: {e}\")"
   ]
  },
  {
   "cell_type": "code",
   "execution_count": null,
   "id": "f9055c35",
   "metadata": {},
   "outputs": [],
   "source": [
    "# 資料基本資訊檢視\n",
    "print(\"=\" * 80)\n",
    "print(\"📊 資料基本資訊總覽\")\n",
    "print(\"=\" * 80)\n",
    "\n",
    "print(f\"\\n🏘️ 預售社區資料 (community_data.csv)  記憶體使用: {community_df.memory_usage(deep=True).sum() / 1024**2:.2f} MB\")\n",
    "print(f\"   資料形狀: {community_df.shape}\")\n",
    "print(f\"   欄位名稱: {community_df.columns}\")\n",
    "\n",
    "\n",
    "print(f\"\\n🏠 逐筆交易資料 (transaction_datat.csv)  記憶體使用: {transaction_df.memory_usage(deep=True).sum() / 1024**2:.2f} MB\")  \n",
    "print(f\"   資料形狀: {transaction_df.shape}\")\n",
    "print(f\"   欄位名稱: {transaction_df.columns}\")\n"
   ]
  },
  {
   "cell_type": "code",
   "execution_count": null,
   "id": "87092277",
   "metadata": {},
   "outputs": [],
   "source": [
    "# 建立社區資料欄位資訊\n",
    "community_info = pd.DataFrame({\n",
    "    '欄位名稱': community_df.columns,\n",
    "    '資料型別': community_df.dtypes,\n",
    "    '非空值數量': community_df.count(),\n",
    "    '缺失值數量': community_df.isnull().sum(),\n",
    "    '缺失率(%)': (community_df.isnull().sum() / len(community_df) * 100).round(2)\n",
    "})\n",
    "community_info['資料表來源'] = ' community_data'\n",
    "\n",
    "# 建立交易資料欄位資訊\n",
    "transaction_info = pd.DataFrame({\n",
    "    '欄位名稱': transaction_df.columns,\n",
    "    '資料型別': transaction_df.dtypes,\n",
    "    '非空值數量': transaction_df.count(),\n",
    "    '缺失值數量': transaction_df.isnull().sum(),\n",
    "    '缺失率(%)': (transaction_df.isnull().sum() / len(transaction_df) * 100).round(2)\n",
    "})\n",
    "transaction_info['資料表來源'] = ' transaction_data'\n",
    "\n",
    "# 合併兩個欄位資訊表\n",
    "combined_info = pd.concat([community_info, transaction_info], ignore_index=True)\n",
    "\n",
    "# 顯示整合後欄位資訊\n",
    "print(\"\\n 預售社區與逐筆交易資料欄位資訊總表:\")\n",
    "print(\"-\" * 120)\n",
    "\n",
    "display(combined_info)\n"
   ]
  },
  {
   "cell_type": "code",
   "execution_count": null,
   "id": "8a3ad95e",
   "metadata": {},
   "outputs": [],
   "source": [
    "# 欄位型態轉換\n",
    "\n",
    "# 面積/價格欄位\n",
    "transaction_df['總面積'] = (\n",
    "    transaction_df['總面積']\n",
    "    .astype(str)                           # 確保是字串\n",
    "    .str.replace(',', '', regex=False)    # 移除千分位逗號\n",
    "    .astype(float)                        # 轉成 float\n",
    ")\n",
    "\n",
    "# 將「車位總價」欄位轉為 int64（整數），並處理可能的逗號格式\n",
    "transaction_df['車位總價'] = (\n",
    "    transaction_df['車位總價']\n",
    "                                                   # 先轉字串\n",
    "    .str.replace(',', '', regex=False)     # 移除千分位逗號\n",
    "    .astype(float)                            # 先轉 float\n",
    "    .round(0)                                 # 四捨五入（可選）\n",
    "    .astype('Int64')                         # Pandas 支援缺值的整數型別\n",
    ")\n",
    "\n",
    "# community_data 及 transaction_data轉換資料型態\n",
    "# 轉換所有 object 欄位成 string\n",
    "for d in [community_df, transaction_df]:\n",
    "    d[d.select_dtypes(include='object').columns] = d.select_dtypes(include='object').astype('string')\n",
    "\n",
    "# display(community_df.dtypes, transaction_df.dtypes)"
   ]
  },
  {
   "cell_type": "code",
   "execution_count": null,
   "id": "93aef9d0",
   "metadata": {},
   "outputs": [],
   "source": [
    "# 日期欄位轉換\n",
    "# 民國整數欄位 roc_integer_cols\n",
    "# 民國斜線欄位（交易資料表）roc_slash_cols\n",
    "# 西元欄位ad_cols\n",
    "\n",
    "community_df = convert_mixed_date_columns(\n",
    "    community_df,\n",
    "    roc_cols=['銷售起始時間', '完成建物第一次登記日期', '自售起始時間', '代銷起始時間', '備查完成日期', '建照核發日'],\n",
    "    ad_cols=['匯入時間']\n",
    ")\n",
    "\n",
    "transaction_df = convert_mixed_date_columns(\n",
    "    transaction_df,\n",
    "    roc_slash_cols=['交易日期'],\n",
    "    roc_cols=['解約日期'],\n",
    "    ad_cols=['匯入時間']\n",
    ")"
   ]
  },
  {
   "cell_type": "code",
   "execution_count": null,
   "id": "4848dda6",
   "metadata": {},
   "outputs": [],
   "source": [
    "# 檢視欄位資訊\n",
    "print(\"\\n 預售社區資料欄位資訊:\")\n",
    "print(\"-\" * 50)\n",
    "\n",
    "community_info = pd.DataFrame({\n",
    "    '欄位名稱': community_df.columns,\n",
    "    '資料型別': community_df.dtypes,\n",
    "    '非空值數量': community_df.count(),\n",
    "    '缺失值數量': community_df.isnull().sum(),\n",
    "    '缺失率(%)': (community_df.isnull().sum() / len(community_df) * 100).round(2)\n",
    "})\n",
    "community_info = community_info.reset_index(drop=True) \n",
    "display(community_info)\n",
    "\n",
    "print(\"逐筆交易資料欄位資訊:\")\n",
    "print(\"-\" * 50)\n",
    "transaction_info = pd.DataFrame({\n",
    "    '欄位名稱': transaction_df.columns,\n",
    "    '資料型別': transaction_df.dtypes,\n",
    "    '非空值數量': transaction_df.count(),\n",
    "    '缺失值數量': transaction_df.isnull().sum(),\n",
    "    '缺失率(%)': (transaction_df.isnull().sum() / len(transaction_df) * 100).round(2)\n",
    "})\n",
    "transaction_info = transaction_info.reset_index(drop=True)\n",
    "display(transaction_info)"
   ]
  },
  {
   "cell_type": "markdown",
   "id": "27d7b1d6",
   "metadata": {},
   "source": [
    "### 3. 資料樣本檢視與格式分析"
   ]
  },
  {
   "cell_type": "code",
   "execution_count": null,
   "id": "88dcb043",
   "metadata": {},
   "outputs": [],
   "source": [
    "# 檢視預售社區/逐筆銷售資料樣本\n",
    "print(\"🔍 預售社區資料前5筆樣本:\")\n",
    "print(\"=\" * 80)\n",
    "display(community_df.head())\n",
    "\n",
    "# %%\n",
    "print(\"\\n🔍 逐筆交易資料前5筆樣本:\")\n",
    "print(\"=\" * 80)\n",
    "display(transaction_df.head())"
   ]
  },
  {
   "cell_type": "code",
   "execution_count": null,
   "id": "0849f588",
   "metadata": {},
   "outputs": [],
   "source": [
    "# 檢視transaction_df的重複登記資料(日期+流水號)\n",
    "\n",
    "# 檢查是否有重複的「交易日期 + 流水號」組合\n",
    "duplicates = transaction_df[\n",
    "    transaction_df.duplicated(subset=['交易日期', '流水號'], keep=False)\n",
    "].sort_values(by=['交易日期', '流水號'])\n",
    "\n",
    "# 顯示結果\n",
    "if not duplicates.empty:\n",
    "    print(\"🔁 發現重複交易紀錄如下：\")\n",
    "    print(duplicates)\n",
    "else:\n",
    "    print(\"✅ 沒有發現以『交易日期 + 流水號』為鍵的重複交易紀錄\")"
   ]
  },
  {
   "cell_type": "code",
   "execution_count": null,
   "id": "0c4b6d2c",
   "metadata": {},
   "outputs": [],
   "source": [
    "# 檢查是否有重複的「交易日期 + 流水號」組合\n",
    "community_duplicates = community_df[\n",
    "    community_df.duplicated(subset=['行政區','建照執照', '經度'], keep=False)\n",
    "].sort_values(by=['行政區','建照執照', '經度'])\n",
    "\n",
    "# 顯示結果\n",
    "if not community_duplicates.empty:\n",
    "    print(\"🔁 發現重複交易紀錄如下：\")\n",
    "    display(community_duplicates)\n",
    "else:\n",
    "    print(\"✅ 沒有發現以『'行政區','建照執照'』為鍵的重複交易紀錄\")"
   ]
  },
  {
   "cell_type": "code",
   "execution_count": null,
   "id": "ee4cea1b",
   "metadata": {},
   "outputs": [],
   "source": [
    "pd.reset_option(\"display.max_rows\")"
   ]
  },
  {
   "cell_type": "code",
   "execution_count": null,
   "id": "83922f93",
   "metadata": {},
   "outputs": [],
   "source": [
    "# 計算每個預售社區的交易筆數\n",
    "community_df['預售交易筆數'] = calculate_presale_transaction_counts(\n",
    "    community_df, \n",
    "    transaction_df\n",
    ")"
   ]
  },
  {
   "cell_type": "code",
   "execution_count": null,
   "id": "e917f991",
   "metadata": {},
   "outputs": [],
   "source": [
    "community_df"
   ]
  },
  {
   "cell_type": "code",
   "execution_count": null,
   "id": "8b57ae9c",
   "metadata": {},
   "outputs": [],
   "source": [
    "# 查看結果\n",
    "community_df[community_df['預售交易筆數'] != 0].sample(100)"
   ]
  },
  {
   "cell_type": "code",
   "execution_count": null,
   "id": "7e314176",
   "metadata": {},
   "outputs": [],
   "source": [
    "display(community_df[community_df['編號'] == 'G1A011010250001'] ) #移除\n",
    "display(community_df[community_df['編號'] == 'G2A011011160002'])  #置換成G2A011011170001"
   ]
  },
  {
   "cell_type": "code",
   "execution_count": null,
   "id": "13470bc4",
   "metadata": {},
   "outputs": [],
   "source": [
    "display(transaction_df[transaction_df['備查編號'] == 'G1A011010250001'])\n",
    "display(transaction_df[transaction_df['備查編號'] == 'G2A011011170001'])"
   ]
  },
  {
   "cell_type": "code",
   "execution_count": null,
   "id": "be04f423",
   "metadata": {},
   "outputs": [],
   "source": [
    "transaction_df[transaction_df['社區名稱'] == '全坤X101']"
   ]
  }
 ],
 "metadata": {
  "kernelspec": {
   "display_name": "area-risk-flagging",
   "language": "python",
   "name": "python3"
  },
  "language_info": {
   "codemirror_mode": {
    "name": "ipython",
    "version": 3
   },
   "file_extension": ".py",
   "mimetype": "text/x-python",
   "name": "python",
   "nbconvert_exporter": "python",
   "pygments_lexer": "ipython3",
   "version": "3.11.13"
  }
 },
 "nbformat": 4,
 "nbformat_minor": 5
}
