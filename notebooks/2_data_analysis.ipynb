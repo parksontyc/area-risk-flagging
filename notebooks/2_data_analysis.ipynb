{
 "cells": [
  {
   "cell_type": "code",
   "execution_count": null,
   "id": "2c9a5efb",
   "metadata": {},
   "outputs": [],
   "source": [
    "import os\n",
    "import ast\n",
    "import pandas as pd\n",
    "import numpy as np\n",
    "import matplotlib.pyplot as plt\n",
    "import seaborn as sns\n",
    "import plotly.express as px\n",
    "import plotly.graph_objects as go\n",
    "from datetime import datetime, timedelta\n",
    "import warnings\n",
    "warnings.filterwarnings('ignore')"
   ]
  },
  {
   "cell_type": "code",
   "execution_count": null,
   "id": "9fb17ff0",
   "metadata": {},
   "outputs": [],
   "source": [
    "import sys\n",
    "from pathlib import Path\n",
    "project_root = Path.cwd().parent  # 找出根目錄：Path.cwd()找出現在所在目錄(/run).parent(上一層是notebook).parent(再上層一層business_district_discovery)\n",
    "print(project_root)\n",
    "sys.path.append(str(project_root))"
   ]
  },
  {
   "cell_type": "code",
   "execution_count": null,
   "id": "e8d4c9ad",
   "metadata": {},
   "outputs": [],
   "source": [
    "from utils.helper_analysis import calculate_community_quarterly_volume_price_analysis, pivot_quarterly_volume_price_horizontal, add_volume_price_summary_statistics\n"
   ]
  },
  {
   "cell_type": "code",
   "execution_count": null,
   "id": "ac437b6f",
   "metadata": {},
   "outputs": [],
   "source": [
    "# 預售屋備查(community data) / 實價預售交易資料(transection data )\n",
    "community_dir = r\"C:\\pylabs\\area-risk-flagging\\data\\lvr_moi\\community_data\\processed\"\n",
    "community_fn = \"community_data_proc.csv\"\n",
    "community_input_path = os.path.join(community_dir,  community_fn)\n",
    "\n",
    "\n",
    "transaction_dir = r\"C:\\pylabs\\area-risk-flagging\\data\\lvr_moi\\transection_data\\processed\"\n",
    "transaction_fn = \"transection_data_proc.csv\"\n",
    "transaction_input_path = os.path.join(transaction_dir,  transaction_fn)"
   ]
  },
  {
   "cell_type": "code",
   "execution_count": null,
   "id": "1fa5f4ed",
   "metadata": {},
   "outputs": [],
   "source": [
    "print(\" 載入資料檔案...\")\n",
    "print(\"=\" * 80)\n",
    "print(\" 資料基本資訊總覽\")\n",
    "print(\"=\" * 80)\n",
    "try:\n",
    "    # 載入預售社區資料\n",
    "    community_df = pd.read_csv(community_input_path, encoding='utf-8')\n",
    "    print(f\" 預售社區資料載入成功: {community_df.shape}  記憶體使用: {community_df.memory_usage(deep=True).sum() / 1024**2:.2f} MB\")\n",
    "    \n",
    "    # 載入逐筆交易資料  \n",
    "    transaction_df = pd.read_csv(transaction_input_path, encoding='utf-8')\n",
    "    print(f\" 逐筆交易資料載入成功: {transaction_df.shape}  記憶體使用: {transaction_df.memory_usage(deep=True).sum() / 1024**2:.2f} MB\")\n",
    "    \n",
    "except FileNotFoundError as e:\n",
    "    print(f\" 檔案載入失敗: {e}\")\n",
    "    print(\" 請確認檔案是否放置在 ../data/raw/ 資料夾中\")\n",
    "except Exception as e:\n",
    "    print(f\" 載入過程發生錯誤: {e}\")"
   ]
  },
  {
   "cell_type": "code",
   "execution_count": null,
   "id": "52507588",
   "metadata": {},
   "outputs": [],
   "source": [
    "# 計算季度量價統計\n",
    "quarterly_results = calculate_community_quarterly_volume_price_analysis(community_df, transaction_df)"
   ]
  },
  {
   "cell_type": "code",
   "execution_count": null,
   "id": "ddf71d6a",
   "metadata": {},
   "outputs": [],
   "source": [
    "quarterly_results"
   ]
  },
  {
   "cell_type": "code",
   "execution_count": null,
   "id": "647d3d93",
   "metadata": {},
   "outputs": [],
   "source": [
    "# 轉換為橫向格式\n",
    "horizontal_df = pivot_quarterly_volume_price_horizontal(quarterly_results)"
   ]
  },
  {
   "cell_type": "code",
   "execution_count": null,
   "id": "c47d5705",
   "metadata": {},
   "outputs": [],
   "source": [
    "horizontal_df"
   ]
  },
  {
   "cell_type": "code",
   "execution_count": null,
   "id": "65bd70d3",
   "metadata": {},
   "outputs": [],
   "source": [
    "# 添加綜合統計\n",
    "enhanced_df = add_volume_price_summary_statistics(horizontal_df)"
   ]
  },
  {
   "cell_type": "code",
   "execution_count": null,
   "id": "2ad950d3",
   "metadata": {},
   "outputs": [],
   "source": [
    "enhanced_df"
   ]
  },
  {
   "cell_type": "code",
   "execution_count": null,
   "id": "2269668a",
   "metadata": {},
   "outputs": [],
   "source": [
    "# 4. 分析應用範例\n",
    "# 高價熱銷社區\n",
    "high_price_hot = enhanced_df[enhanced_df['市場定位'] == '🏆 高價熱銷']\n",
    "print(f\"高價熱銷社區：{len(high_price_hot)} 個\")"
   ]
  },
  {
   "cell_type": "code",
   "execution_count": null,
   "id": "0b306443",
   "metadata": {},
   "outputs": [],
   "source": [
    "high_price_hot"
   ]
  }
 ],
 "metadata": {
  "kernelspec": {
   "display_name": "area-risk-flagging",
   "language": "python",
   "name": "python3"
  },
  "language_info": {
   "codemirror_mode": {
    "name": "ipython",
    "version": 3
   },
   "file_extension": ".py",
   "mimetype": "text/x-python",
   "name": "python",
   "nbconvert_exporter": "python",
   "pygments_lexer": "ipython3",
   "version": "3.11.13"
  }
 },
 "nbformat": 4,
 "nbformat_minor": 5
}
